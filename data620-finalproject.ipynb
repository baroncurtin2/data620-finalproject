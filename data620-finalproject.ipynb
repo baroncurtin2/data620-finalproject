{
 "cells": [
  {
   "cell_type": "markdown",
   "metadata": {
    "collapsed": true,
    "pycharm": {
     "name": "#%% md\n"
    }
   },
   "source": [
    "# Data 620 - Final Project\n",
    "\n",
    "Baron Curtin, Heather Geiger\n",
    "\n",
    "RNA sequencing has been a valuable tool in genetics research for well over a decade now. By looking at RNA, one can look at which genes are expressed in addition to just looking at genetic variation.\n",
    "\n",
    "More recently, RNA sequencing at the single cell level rather than just of the whole tissue lets you see which genes are expressed in subsets of a tissue or particular cell types. Popular applications include development, neurology, autoimmune disease, and oncology.\n",
    "\n",
    "In our final project, we plan to use automated data analysis to get a broad overview of the published research on single-cell RNA sequencing. Specifically, we plan to focus on two aspects of this. \n",
    "\n",
    "The first aspect will be to get a sense of the most influential authors in this field, and the relationships between them. To do this, we will run a network analysis, where connections are defined by authors being on the same paper together. \n",
    "\n",
    "The second aspect will be to get a sense of recurrent themes in the literature through text mining. Here, we will focus on recurrent terms in the abstracts to do this. Since the abstract of a paper is meant to provide a summary of the most important themes in a single paragraph or two, text mining these should provide a lot of information despite only needing to process a relatively small amount of text."
   ]
  },
  {
   "cell_type": "code",
   "execution_count": 35,
   "outputs": [
    {
     "name": "stderr",
     "text": [
      "[nltk_data] Downloading package stopwords to\n",
      "[nltk_data]     /Users/baron.curtin/nltk_data...\n",
      "[nltk_data]   Package stopwords is already up-to-date!\n"
     ],
     "output_type": "stream"
    },
    {
     "data": {
      "text/plain": "True"
     },
     "metadata": {},
     "output_type": "execute_result",
     "execution_count": 35
    }
   ],
   "source": [
    "# standard imports\n",
    "import pickle\n",
    "import gzip\n",
    "from pathlib import Path\n",
    "\n",
    "# third party imports\n",
    "import nltk\n",
    "import numpy as np\n",
    "import pandas as pd\n",
    "import matplotlib.pyplot as plt\n",
    "import seaborn as sns\n",
    "import networkx as nx\n",
    "from sklearn.feature_extraction.text import CountVectorizer\n",
    "\n",
    "from Bio import Entrez\n",
    "from Bio import Medline\n",
    "from tqdm import tqdm\n",
    "\n",
    "# stop words\n",
    "nltk.download('stopwords')\n",
    "from nltk.corpus import stopwords\n",
    "stop_words = set(stopwords.words('english'))\n",
    "\n",
    "# additional jupyter setup\n",
    "from IPython.core.interactiveshell import InteractiveShell\n",
    "InteractiveShell.ast_node_interactivity = \"all\"\n",
    "%matplotlib inline\n"
   ],
   "metadata": {
    "collapsed": false,
    "pycharm": {
     "name": "#%%\n",
     "is_executing": false
    }
   }
  },
  {
   "cell_type": "markdown",
   "source": [
    "## Load Data\n",
    "\n",
    "Lets load our data and perform some EDA to get a feel for our data."
   ],
   "metadata": {
    "collapsed": false,
    "pycharm": {
     "name": "#%% md\n"
    }
   }
  },
  {
   "cell_type": "code",
   "execution_count": 36,
   "outputs": [],
   "source": [
    "# load data\n",
    "data_paths = (Path.cwd() / 'data').glob('*half*.gz')\n",
    "\n",
    "def parse_data(data_path):\n",
    "    with gzip.open(data_path, 'rb') as pf:\n",
    "        loaded_data = pickle.load(pf)\n",
    "    return loaded_data\n",
    "\n",
    "data = [x for dp in data_paths for x in parse_data(dp)]\n",
    "df = pd.DataFrame(data)"
   ],
   "metadata": {
    "collapsed": false,
    "pycharm": {
     "name": "#%%\n",
     "is_executing": false
    }
   }
  },
  {
   "cell_type": "markdown",
   "source": [
    "## Exploratory Analysis\n",
    "\n",
    "We can perform some basic exploratory analysis to better understand the data we are working with"
   ],
   "metadata": {
    "collapsed": false,
    "pycharm": {
     "name": "#%% md\n"
    }
   }
  },
  {
   "cell_type": "code",
   "execution_count": 37,
   "outputs": [
    {
     "data": {
      "text/plain": "(17807, 68)"
     },
     "metadata": {},
     "output_type": "execute_result",
     "execution_count": 37
    }
   ],
   "source": [
    "df.shape"
   ],
   "metadata": {
    "collapsed": false,
    "pycharm": {
     "name": "#%%\n",
     "is_executing": false
    }
   }
  },
  {
   "cell_type": "code",
   "execution_count": 38,
   "outputs": [
    {
     "name": "stdout",
     "text": [
      "<class 'pandas.core.frame.DataFrame'>\n",
      "RangeIndex: 17807 entries, 0 to 17806\n",
      "Data columns (total 68 columns):\n",
      "PMID    17807 non-null object\n",
      "OWN     17806 non-null object\n",
      "STAT    17807 non-null object\n",
      "LR      17806 non-null object\n",
      "IS      17797 non-null object\n",
      "DP      17807 non-null object\n",
      "TI      17807 non-null object\n",
      "LID     8151 non-null object\n",
      "AB      17684 non-null object\n",
      "CI      3252 non-null object\n",
      "FAU     17798 non-null object\n",
      "AU      17798 non-null object\n",
      "AD      16719 non-null object\n",
      "LA      17807 non-null object\n",
      "PT      17807 non-null object\n",
      "DEP     7825 non-null object\n",
      "PL      17807 non-null object\n",
      "TA      17806 non-null object\n",
      "JT      17806 non-null object\n",
      "JID     17806 non-null object\n",
      "SB      17277 non-null object\n",
      "OTO     3193 non-null object\n",
      "OT      3193 non-null object\n",
      "EDAT    17807 non-null object\n",
      "MHDA    17807 non-null object\n",
      "CRDT    17806 non-null object\n",
      "PHST    17806 non-null object\n",
      "AID     16026 non-null object\n",
      "PST     17806 non-null object\n",
      "SO      17806 non-null object\n",
      "AUID    1490 non-null object\n",
      "GR      6496 non-null object\n",
      "VI      17633 non-null object\n",
      "PG      17339 non-null object\n",
      "PMC     7686 non-null object\n",
      "IP      15975 non-null object\n",
      "COIS    429 non-null object\n",
      "MID     1093 non-null object\n",
      "PMCR    190 non-null object\n",
      "DCOM    16707 non-null object\n",
      "RN      15554 non-null object\n",
      "MH      16605 non-null object\n",
      "CN      108 non-null object\n",
      "SI      4443 non-null object\n",
      "CIN     559 non-null object\n",
      "EFR     7 non-null object\n",
      "TT      29 non-null object\n",
      "EIN     352 non-null object\n",
      "CON     49 non-null object\n",
      "IR      48 non-null object\n",
      "FIR     48 non-null object\n",
      "OAB     1 non-null object\n",
      "OABL    1 non-null object\n",
      "DA      1 non-null object\n",
      "ISBN    1 non-null object\n",
      "PB      1 non-null object\n",
      "BTI     1 non-null object\n",
      "CP      1 non-null object\n",
      "FED     1 non-null object\n",
      "ED      1 non-null object\n",
      "CDAT    1 non-null object\n",
      "OID     39 non-null object\n",
      "GN      9 non-null object\n",
      "RIN     4 non-null object\n",
      "RF      191 non-null object\n",
      "IRAD    7 non-null object\n",
      "SFM     2 non-null object\n",
      "GS      613 non-null object\n",
      "dtypes: object(68)\n",
      "memory usage: 9.2+ MB\n"
     ],
     "output_type": "stream"
    }
   ],
   "source": [
    "df.info()"
   ],
   "metadata": {
    "collapsed": false,
    "pycharm": {
     "name": "#%%\n",
     "is_executing": false
    }
   }
  },
  {
   "cell_type": "code",
   "execution_count": 39,
   "outputs": [
    {
     "data": {
      "text/plain": "       PMID  OWN            STAT        LR  \\\n0  31810988  NLM       Publisher  20191207   \n1  31810883  NLM       Publisher  20191207   \n2  31804413  NLM       Publisher  20191205   \n3  31803960  NLM       Publisher  20191205   \n4  31803196  NLM  In-Data-Review  20191205   \n\n                                           IS           DP  \\\n0  1943-2631 (Electronic) 0016-6731 (Linking)   2019 Dec 6   \n1  1097-4180 (Electronic) 1074-7613 (Linking)  2019 Nov 27   \n2  2163-0763 (Electronic) 2163-0755 (Linking)   2019 Dec 5   \n3  1938-3673 (Electronic) 0741-5400 (Linking)   2019 Dec 4   \n4  1664-3224 (Electronic) 1664-3224 (Linking)         2019   \n\n                                                  TI  \\\n0  Binding and Regulation of Transcription by Yea...   \n1  CD4(+) T Cell Help Is Required for the Formati...   \n2  Early Single-Dose Treatment with Exosomes Prov...   \n3  Dissecting the human immune system with single...   \n4  Understanding the Heterogeneity of Resident Li...   \n\n                                                 LID  \\\n0  genetics.302929.2019 [pii] 10.1534/genetics.11...   \n1  S1074-7613(19)30453-4 [pii] 10.1016/j.immuni.2...   \n2                  10.1097/TA.0000000000002563 [doi]   \n3                     10.1002/JLB.5MR1019-179R [doi]   \n4                     10.3389/fimmu.2019.02694 [doi]   \n\n                                                  AB  \\\n0  Amino acid substitutions are commonly found in...   \n1  Although CD4(+) T cell \"help\" is crucial to su...   \n2  BACKGROUND: Administration of human mesenchyma...   \n3  Single-cell RNA sequencing (scRNA-seq) is a po...   \n4  Resident tissue macrophages (RTMs) are cells w...   \n\n                                                  CI  ...  FED   ED CDAT  OID  \\\n0                    [Copyright (c) 2019, Genetics.]  ...  NaN  NaN  NaN  NaN   \n1  [Copyright (c) 2019 Elsevier Inc. All rights r...  ...  NaN  NaN  NaN  NaN   \n2                                                NaN  ...  NaN  NaN  NaN  NaN   \n3           [(c)2019 Society for Leukocyte Biology.]  ...  NaN  NaN  NaN  NaN   \n4          [Copyright (c) 2019 Bleriot and Ginhoux.]  ...  NaN  NaN  NaN  NaN   \n\n    GN  RIN   RF IRAD  SFM   GS  \n0  NaN  NaN  NaN  NaN  NaN  NaN  \n1  NaN  NaN  NaN  NaN  NaN  NaN  \n2  NaN  NaN  NaN  NaN  NaN  NaN  \n3  NaN  NaN  NaN  NaN  NaN  NaN  \n4  NaN  NaN  NaN  NaN  NaN  NaN  \n\n[5 rows x 68 columns]",
      "text/html": "<div>\n<style scoped>\n    .dataframe tbody tr th:only-of-type {\n        vertical-align: middle;\n    }\n\n    .dataframe tbody tr th {\n        vertical-align: top;\n    }\n\n    .dataframe thead th {\n        text-align: right;\n    }\n</style>\n<table border=\"1\" class=\"dataframe\">\n  <thead>\n    <tr style=\"text-align: right;\">\n      <th></th>\n      <th>PMID</th>\n      <th>OWN</th>\n      <th>STAT</th>\n      <th>LR</th>\n      <th>IS</th>\n      <th>DP</th>\n      <th>TI</th>\n      <th>LID</th>\n      <th>AB</th>\n      <th>CI</th>\n      <th>...</th>\n      <th>FED</th>\n      <th>ED</th>\n      <th>CDAT</th>\n      <th>OID</th>\n      <th>GN</th>\n      <th>RIN</th>\n      <th>RF</th>\n      <th>IRAD</th>\n      <th>SFM</th>\n      <th>GS</th>\n    </tr>\n  </thead>\n  <tbody>\n    <tr>\n      <th>0</th>\n      <td>31810988</td>\n      <td>NLM</td>\n      <td>Publisher</td>\n      <td>20191207</td>\n      <td>1943-2631 (Electronic) 0016-6731 (Linking)</td>\n      <td>2019 Dec 6</td>\n      <td>Binding and Regulation of Transcription by Yea...</td>\n      <td>genetics.302929.2019 [pii] 10.1534/genetics.11...</td>\n      <td>Amino acid substitutions are commonly found in...</td>\n      <td>[Copyright (c) 2019, Genetics.]</td>\n      <td>...</td>\n      <td>NaN</td>\n      <td>NaN</td>\n      <td>NaN</td>\n      <td>NaN</td>\n      <td>NaN</td>\n      <td>NaN</td>\n      <td>NaN</td>\n      <td>NaN</td>\n      <td>NaN</td>\n      <td>NaN</td>\n    </tr>\n    <tr>\n      <th>1</th>\n      <td>31810883</td>\n      <td>NLM</td>\n      <td>Publisher</td>\n      <td>20191207</td>\n      <td>1097-4180 (Electronic) 1074-7613 (Linking)</td>\n      <td>2019 Nov 27</td>\n      <td>CD4(+) T Cell Help Is Required for the Formati...</td>\n      <td>S1074-7613(19)30453-4 [pii] 10.1016/j.immuni.2...</td>\n      <td>Although CD4(+) T cell \"help\" is crucial to su...</td>\n      <td>[Copyright (c) 2019 Elsevier Inc. All rights r...</td>\n      <td>...</td>\n      <td>NaN</td>\n      <td>NaN</td>\n      <td>NaN</td>\n      <td>NaN</td>\n      <td>NaN</td>\n      <td>NaN</td>\n      <td>NaN</td>\n      <td>NaN</td>\n      <td>NaN</td>\n      <td>NaN</td>\n    </tr>\n    <tr>\n      <th>2</th>\n      <td>31804413</td>\n      <td>NLM</td>\n      <td>Publisher</td>\n      <td>20191205</td>\n      <td>2163-0763 (Electronic) 2163-0755 (Linking)</td>\n      <td>2019 Dec 5</td>\n      <td>Early Single-Dose Treatment with Exosomes Prov...</td>\n      <td>10.1097/TA.0000000000002563 [doi]</td>\n      <td>BACKGROUND: Administration of human mesenchyma...</td>\n      <td>NaN</td>\n      <td>...</td>\n      <td>NaN</td>\n      <td>NaN</td>\n      <td>NaN</td>\n      <td>NaN</td>\n      <td>NaN</td>\n      <td>NaN</td>\n      <td>NaN</td>\n      <td>NaN</td>\n      <td>NaN</td>\n      <td>NaN</td>\n    </tr>\n    <tr>\n      <th>3</th>\n      <td>31803960</td>\n      <td>NLM</td>\n      <td>Publisher</td>\n      <td>20191205</td>\n      <td>1938-3673 (Electronic) 0741-5400 (Linking)</td>\n      <td>2019 Dec 4</td>\n      <td>Dissecting the human immune system with single...</td>\n      <td>10.1002/JLB.5MR1019-179R [doi]</td>\n      <td>Single-cell RNA sequencing (scRNA-seq) is a po...</td>\n      <td>[(c)2019 Society for Leukocyte Biology.]</td>\n      <td>...</td>\n      <td>NaN</td>\n      <td>NaN</td>\n      <td>NaN</td>\n      <td>NaN</td>\n      <td>NaN</td>\n      <td>NaN</td>\n      <td>NaN</td>\n      <td>NaN</td>\n      <td>NaN</td>\n      <td>NaN</td>\n    </tr>\n    <tr>\n      <th>4</th>\n      <td>31803196</td>\n      <td>NLM</td>\n      <td>In-Data-Review</td>\n      <td>20191205</td>\n      <td>1664-3224 (Electronic) 1664-3224 (Linking)</td>\n      <td>2019</td>\n      <td>Understanding the Heterogeneity of Resident Li...</td>\n      <td>10.3389/fimmu.2019.02694 [doi]</td>\n      <td>Resident tissue macrophages (RTMs) are cells w...</td>\n      <td>[Copyright (c) 2019 Bleriot and Ginhoux.]</td>\n      <td>...</td>\n      <td>NaN</td>\n      <td>NaN</td>\n      <td>NaN</td>\n      <td>NaN</td>\n      <td>NaN</td>\n      <td>NaN</td>\n      <td>NaN</td>\n      <td>NaN</td>\n      <td>NaN</td>\n      <td>NaN</td>\n    </tr>\n  </tbody>\n</table>\n<p>5 rows × 68 columns</p>\n</div>"
     },
     "metadata": {},
     "output_type": "execute_result",
     "execution_count": 39
    }
   ],
   "source": [
    "df.head()\n",
    "\n"
   ],
   "metadata": {
    "collapsed": false,
    "pycharm": {
     "name": "#%%\n",
     "is_executing": false
    }
   }
  },
  {
   "cell_type": "code",
   "execution_count": 40,
   "outputs": [
    {
     "data": {
      "text/plain": "        KEY                                            AUTHORS  \\\n0  31810988  [Zhou, Wei, Dorrity, Michael W, Bubb, Kerry L,...   \n1  31810883  [Zander, Ryan, Schauder, David, Xin, Gang, Ngu...   \n2  31804413  [Williams, Aaron M, Bhatti, Umar F, Brown, Jor...   \n3  31803960  [Xu, Gang, Liu, Yang, Li, Hanjie, Liu, Lei, Zh...   \n4  31803196               [Bleriot, Camille, Ginhoux, Florent]   \n\n                                            ABSTRACT              DATE  \\\n0  Amino acid substitutions are commonly found in...  2019/12/08 06:00   \n1  Although CD4(+) T cell \"help\" is crucial to su...  2019/12/08 06:00   \n2  BACKGROUND: Administration of human mesenchyma...  2019/12/06 06:00   \n3  Single-cell RNA sequencing (scRNA-seq) is a po...  2019/12/06 06:00   \n4  Resident tissue macrophages (RTMs) are cells w...  2019/12/06 06:00   \n\n                      TITLE                                           KEYWORDS  \n0                  Genetics  [gene expression regulation, genome binding, p...  \n1                  Immunity  [CD4(+) T cell help, CD8(+) T cell heterogenei...  \n2  J Trauma Acute Care Surg                                                NaN  \n3             J Leukoc Biol  [cell type identification, human immune system...  \n4             Front Immunol  [heterogeneity, liver, macrophage, monocyte, s...  ",
      "text/html": "<div>\n<style scoped>\n    .dataframe tbody tr th:only-of-type {\n        vertical-align: middle;\n    }\n\n    .dataframe tbody tr th {\n        vertical-align: top;\n    }\n\n    .dataframe thead th {\n        text-align: right;\n    }\n</style>\n<table border=\"1\" class=\"dataframe\">\n  <thead>\n    <tr style=\"text-align: right;\">\n      <th></th>\n      <th>KEY</th>\n      <th>AUTHORS</th>\n      <th>ABSTRACT</th>\n      <th>DATE</th>\n      <th>TITLE</th>\n      <th>KEYWORDS</th>\n    </tr>\n  </thead>\n  <tbody>\n    <tr>\n      <th>0</th>\n      <td>31810988</td>\n      <td>[Zhou, Wei, Dorrity, Michael W, Bubb, Kerry L,...</td>\n      <td>Amino acid substitutions are commonly found in...</td>\n      <td>2019/12/08 06:00</td>\n      <td>Genetics</td>\n      <td>[gene expression regulation, genome binding, p...</td>\n    </tr>\n    <tr>\n      <th>1</th>\n      <td>31810883</td>\n      <td>[Zander, Ryan, Schauder, David, Xin, Gang, Ngu...</td>\n      <td>Although CD4(+) T cell \"help\" is crucial to su...</td>\n      <td>2019/12/08 06:00</td>\n      <td>Immunity</td>\n      <td>[CD4(+) T cell help, CD8(+) T cell heterogenei...</td>\n    </tr>\n    <tr>\n      <th>2</th>\n      <td>31804413</td>\n      <td>[Williams, Aaron M, Bhatti, Umar F, Brown, Jor...</td>\n      <td>BACKGROUND: Administration of human mesenchyma...</td>\n      <td>2019/12/06 06:00</td>\n      <td>J Trauma Acute Care Surg</td>\n      <td>NaN</td>\n    </tr>\n    <tr>\n      <th>3</th>\n      <td>31803960</td>\n      <td>[Xu, Gang, Liu, Yang, Li, Hanjie, Liu, Lei, Zh...</td>\n      <td>Single-cell RNA sequencing (scRNA-seq) is a po...</td>\n      <td>2019/12/06 06:00</td>\n      <td>J Leukoc Biol</td>\n      <td>[cell type identification, human immune system...</td>\n    </tr>\n    <tr>\n      <th>4</th>\n      <td>31803196</td>\n      <td>[Bleriot, Camille, Ginhoux, Florent]</td>\n      <td>Resident tissue macrophages (RTMs) are cells w...</td>\n      <td>2019/12/06 06:00</td>\n      <td>Front Immunol</td>\n      <td>[heterogeneity, liver, macrophage, monocyte, s...</td>\n    </tr>\n  </tbody>\n</table>\n</div>"
     },
     "metadata": {},
     "output_type": "execute_result",
     "execution_count": 40
    }
   ],
   "source": [
    "# remove columns not needed for analysis\n",
    "df = df[['PMID', 'FAU', 'AB', 'EDAT', 'TA', 'OT']]\n",
    "\n",
    "# rename columns for explicitness\n",
    "df.columns = ['KEY', 'AUTHORS', 'ABSTRACT', 'DATE', 'TITLE', 'KEYWORDS']\n",
    "df.head()"
   ],
   "metadata": {
    "collapsed": false,
    "pycharm": {
     "name": "#%%\n",
     "is_executing": false
    }
   }
  },
  {
   "cell_type": "markdown",
   "source": [
    "## Feature Extraction\n",
    "\n",
    "Lets create some features from our data to make analysis a bit easier and go into our secondary EDA. Some features we might\n",
    "look to create are separating the year from the data column, possibly separating each time interval from the date column, and\n",
    "isolating our authors so that we have one author per line"
   ],
   "metadata": {
    "collapsed": false,
    "pycharm": {
     "name": "#%% md\n"
    }
   }
  },
  {
   "cell_type": "code",
   "execution_count": 41,
   "outputs": [],
   "source": [
    "# create separate date columns\n",
    "df['DATE_'] = pd.to_datetime(df['DATE'], infer_datetime_format=True)\n",
    "\n",
    "# create year, month, day columns\n",
    "df['YEAR'] = df['DATE_'].dt.year\n",
    "df['MONTH'] = df['DATE_'].dt.month\n",
    "df['DAY'] = df['DATE_'].dt.day\n",
    "df['TIME'] = df['DATE_'].dt.time"
   ],
   "metadata": {
    "collapsed": false,
    "pycharm": {
     "name": "#%%\n",
     "is_executing": false
    }
   }
  },
  {
   "cell_type": "code",
   "execution_count": 50,
   "outputs": [
    {
     "data": {
      "text/plain": "        KEY               AUTHOR  \\\n0  31810988            Zhou, Wei   \n1  31810988   Dorrity, Michael W   \n2  31810988        Bubb, Kerry L   \n3  31810988  Queitsch, Christine   \n4  31810988      Fields, Stanley   \n\n                                            ABSTRACT              DATE  \\\n0  Amino acid substitutions are commonly found in...  2019/12/08 06:00   \n1  Amino acid substitutions are commonly found in...  2019/12/08 06:00   \n2  Amino acid substitutions are commonly found in...  2019/12/08 06:00   \n3  Amino acid substitutions are commonly found in...  2019/12/08 06:00   \n4  Amino acid substitutions are commonly found in...  2019/12/08 06:00   \n\n      TITLE                                           KEYWORDS  \\\n0  Genetics  [gene expression regulation, genome binding, p...   \n1  Genetics  [gene expression regulation, genome binding, p...   \n2  Genetics  [gene expression regulation, genome binding, p...   \n3  Genetics  [gene expression regulation, genome binding, p...   \n4  Genetics  [gene expression regulation, genome binding, p...   \n\n                DATE_  YEAR  MONTH  DAY      TIME  \n0 2019-12-08 06:00:00  2019     12    8  06:00:00  \n1 2019-12-08 06:00:00  2019     12    8  06:00:00  \n2 2019-12-08 06:00:00  2019     12    8  06:00:00  \n3 2019-12-08 06:00:00  2019     12    8  06:00:00  \n4 2019-12-08 06:00:00  2019     12    8  06:00:00  ",
      "text/html": "<div>\n<style scoped>\n    .dataframe tbody tr th:only-of-type {\n        vertical-align: middle;\n    }\n\n    .dataframe tbody tr th {\n        vertical-align: top;\n    }\n\n    .dataframe thead th {\n        text-align: right;\n    }\n</style>\n<table border=\"1\" class=\"dataframe\">\n  <thead>\n    <tr style=\"text-align: right;\">\n      <th></th>\n      <th>KEY</th>\n      <th>AUTHOR</th>\n      <th>ABSTRACT</th>\n      <th>DATE</th>\n      <th>TITLE</th>\n      <th>KEYWORDS</th>\n      <th>DATE_</th>\n      <th>YEAR</th>\n      <th>MONTH</th>\n      <th>DAY</th>\n      <th>TIME</th>\n    </tr>\n  </thead>\n  <tbody>\n    <tr>\n      <th>0</th>\n      <td>31810988</td>\n      <td>Zhou, Wei</td>\n      <td>Amino acid substitutions are commonly found in...</td>\n      <td>2019/12/08 06:00</td>\n      <td>Genetics</td>\n      <td>[gene expression regulation, genome binding, p...</td>\n      <td>2019-12-08 06:00:00</td>\n      <td>2019</td>\n      <td>12</td>\n      <td>8</td>\n      <td>06:00:00</td>\n    </tr>\n    <tr>\n      <th>1</th>\n      <td>31810988</td>\n      <td>Dorrity, Michael W</td>\n      <td>Amino acid substitutions are commonly found in...</td>\n      <td>2019/12/08 06:00</td>\n      <td>Genetics</td>\n      <td>[gene expression regulation, genome binding, p...</td>\n      <td>2019-12-08 06:00:00</td>\n      <td>2019</td>\n      <td>12</td>\n      <td>8</td>\n      <td>06:00:00</td>\n    </tr>\n    <tr>\n      <th>2</th>\n      <td>31810988</td>\n      <td>Bubb, Kerry L</td>\n      <td>Amino acid substitutions are commonly found in...</td>\n      <td>2019/12/08 06:00</td>\n      <td>Genetics</td>\n      <td>[gene expression regulation, genome binding, p...</td>\n      <td>2019-12-08 06:00:00</td>\n      <td>2019</td>\n      <td>12</td>\n      <td>8</td>\n      <td>06:00:00</td>\n    </tr>\n    <tr>\n      <th>3</th>\n      <td>31810988</td>\n      <td>Queitsch, Christine</td>\n      <td>Amino acid substitutions are commonly found in...</td>\n      <td>2019/12/08 06:00</td>\n      <td>Genetics</td>\n      <td>[gene expression regulation, genome binding, p...</td>\n      <td>2019-12-08 06:00:00</td>\n      <td>2019</td>\n      <td>12</td>\n      <td>8</td>\n      <td>06:00:00</td>\n    </tr>\n    <tr>\n      <th>4</th>\n      <td>31810988</td>\n      <td>Fields, Stanley</td>\n      <td>Amino acid substitutions are commonly found in...</td>\n      <td>2019/12/08 06:00</td>\n      <td>Genetics</td>\n      <td>[gene expression regulation, genome binding, p...</td>\n      <td>2019-12-08 06:00:00</td>\n      <td>2019</td>\n      <td>12</td>\n      <td>8</td>\n      <td>06:00:00</td>\n    </tr>\n  </tbody>\n</table>\n</div>"
     },
     "metadata": {},
     "output_type": "execute_result",
     "execution_count": 50
    }
   ],
   "source": [
    "# create new dataframe based on authors\n",
    "x_df = pd.DataFrame(df.AUTHORS.fillna('??????').str.join('|').str.split('|').tolist(), index=df.KEY).stack()\n",
    "x_df = x_df.reset_index([0, 'KEY'])\n",
    "x_df.columns = ['KEY', 'AUTHOR']\n",
    "\n",
    "# join original data back to the new df\n",
    "x_df = x_df.merge(df.drop(columns=['AUTHORS']), on=['KEY'])\n",
    "x_df.head()"
   ],
   "metadata": {
    "collapsed": false,
    "pycharm": {
     "name": "#%%\n",
     "is_executing": false
    }
   }
  },
  {
   "cell_type": "code",
   "execution_count": 51,
   "outputs": [],
   "source": [
    "# join keywords in a single list\n",
    "x_df['KEYWORDS_MERGED'] = x_df['KEYWORDS'].str.join('|')"
   ],
   "metadata": {
    "collapsed": false,
    "pycharm": {
     "name": "#%%\n",
     "is_executing": false
    }
   }
  }
 ],
 "metadata": {
  "kernelspec": {
   "display_name": "Python 3",
   "language": "python",
   "name": "python3"
  },
  "language_info": {
   "codemirror_mode": {
    "name": "ipython",
    "version": 2
   },
   "file_extension": ".py",
   "mimetype": "text/x-python",
   "name": "python",
   "nbconvert_exporter": "python",
   "pygments_lexer": "ipython2",
   "version": "2.7.6"
  },
  "pycharm": {
   "stem_cell": {
    "cell_type": "raw",
    "source": [],
    "metadata": {
     "collapsed": false
    }
   }
  }
 },
 "nbformat": 4,
 "nbformat_minor": 0
}