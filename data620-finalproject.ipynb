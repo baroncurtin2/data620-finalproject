{
 "cells": [
  {
   "cell_type": "markdown",
   "metadata": {
    "collapsed": true,
    "pycharm": {
     "name": "#%% md\n"
    }
   },
   "source": [
    "# Data 620 - Final Project\n",
    "\n",
    "Baron Curtin, Heather Geiger\n",
    "\n",
    "RNA sequencing has been a valuable tool in genetics research for well over a decade now. By looking at RNA, one can look at which genes are expressed in addition to just looking at genetic variation.\n",
    "\n",
    "More recently, RNA sequencing at the single cell level rather than just of the whole tissue lets you see which genes are expressed in subsets of a tissue or particular cell types. Popular applications include development, neurology, autoimmune disease, and oncology.\n",
    "\n",
    "In our final project, we plan to use automated data analysis to get a broad overview of the published research on single-cell RNA sequencing. Specifically, we plan to focus on two aspects of this. \n",
    "\n",
    "The first aspect will be to get a sense of the most influential authors in this field, and the relationships between them. To do this, we will run a network analysis, where connections are defined by authors being on the same paper together. \n",
    "\n",
    "The second aspect will be to get a sense of recurrent themes in the literature through text mining. Here, we will focus on recurrent terms in the abstracts to do this. Since the abstract of a paper is meant to provide a summary of the most important themes in a single paragraph or two, text mining these should provide a lot of information despite only needing to process a relatively small amount of text.\n",
    "\n",
    "Our analysis will expand upon the code and algorithms used here by author Maximillian Straub: [Medium Article](https://towardsdatascience.com/network-analysis-to-quickly-get-insight-into-an-academic-field-with-python-cd891717d547). We have already tried running his code to get the number of publications found from PubMed using the keyword ‘single cell rna sequencing’, and as of 12/01/19 it was 17,782. This is somewhat more than the 5,059 processed in this post, but should still be a reasonably small enough number to perform similar analysis. \n",
    "\n",
    "The big difference between his work and ours is that we will add text mining of the abstracts to summarize recurrent themes in the literature, rather than simply using the keywords attached to the papers in PubMed. Another difference is that one of the authors of this project (Heather Geiger) works in bioinformatics, and so already has some hypotheses about what the results here will include. \n",
    "\n",
    "Reasonable hypotheses here for the network analysis include that authors of commonly used tools (both in the lab and computational) will be very central in the network. For example, Steve McCarroll (last author of the paper on Drop-Seq, a seminal lab technique for sequencing many cells at once), and Rahul Satija (author of Seurat, a widely used computational package for analyzing single-cell RNA-Seq data) are likely to come up as central in the network. \n",
    "\n",
    "For the text mining, one hypothesis is that the term ‘immune’ is likely to come up somewhere as part of the set of recurrent terms within the abstracts. This term is relevant to two of the common applications of single-cell RNA-Seq (autoimmune disease and cancer). Also many tools for both the lab and computational analysis use a mix of known immune cell types (from blood) as a validation dataset. So this term may come up even in papers that do not directly relate to immunology."
   ]
  },
  {
   "cell_type": "code",
   "execution_count": 52,
   "outputs": [
    {
     "name": "stderr",
     "text": [
      "[nltk_data] Downloading package stopwords to\n",
      "[nltk_data]     C:\\Users\\bacur\\AppData\\Roaming\\nltk_data...\n",
      "[nltk_data]   Package stopwords is already up-to-date!\n"
     ],
     "output_type": "stream"
    },
    {
     "data": {
      "text/plain": "True"
     },
     "metadata": {},
     "output_type": "execute_result",
     "execution_count": 52
    }
   ],
   "source": [
    "# standard imports\n",
    "import pickle\n",
    "import gzip\n",
    "from collections import Counter\n",
    "from pathlib import Path\n",
    "\n",
    "# third party imports\n",
    "import nltk\n",
    "from nltk.util import ngrams\n",
    "import numpy as np\n",
    "import pandas as pd\n",
    "import matplotlib.pyplot as plt\n",
    "import seaborn as sns\n",
    "import networkx as nx\n",
    "from sklearn.feature_extraction.text import CountVectorizer\n",
    "from nltk.tokenize import word_tokenize, regexp_tokenize\n",
    "\n",
    "from Bio import Entrez\n",
    "from Bio import Medline\n",
    "from tqdm import tqdm\n",
    "\n",
    "# stop words\n",
    "nltk.download('stopwords')\n",
    "from nltk.corpus import stopwords\n",
    "stop_words = set(stopwords.words('english'))\n",
    "\n",
    "# additional jupyter setup\n",
    "from IPython.core.interactiveshell import InteractiveShell\n",
    "InteractiveShell.ast_node_interactivity = \"all\"\n",
    "%matplotlib inline\n"
   ],
   "metadata": {
    "collapsed": false,
    "pycharm": {
     "name": "#%%\n",
     "is_executing": false
    }
   }
  },
  {
   "cell_type": "markdown",
   "source": [
    "## Load Data\n",
    "\n",
    "Lets load our data and perform some EDA to get a feel for our data."
   ],
   "metadata": {
    "collapsed": false
   }
  },
  {
   "cell_type": "code",
   "execution_count": 53,
   "outputs": [],
   "source": [
    "# load data\n",
    "data_paths = (Path.cwd() / 'data').glob('*half*.gz')\n",
    "\n",
    "def parse_data(data_path):\n",
    "    with gzip.open(data_path, 'rb') as pf:\n",
    "        loaded_data = pickle.load(pf)\n",
    "    return loaded_data\n",
    "\n",
    "data = [x for dp in data_paths for x in parse_data(dp)]\n",
    "df = pd.DataFrame(data)"
   ],
   "metadata": {
    "collapsed": false,
    "pycharm": {
     "name": "#%%\n",
     "is_executing": false
    }
   }
  },
  {
   "cell_type": "markdown",
   "source": [
    "## Basic Analysis\n",
    "\n",
    "We can perform some basic exploratory analysis to better understand the data we are working with"
   ],
   "metadata": {
    "collapsed": false
   }
  },
  {
   "cell_type": "code",
   "execution_count": 54,
   "outputs": [
    {
     "data": {
      "text/plain": "(17807, 68)"
     },
     "metadata": {},
     "output_type": "execute_result",
     "execution_count": 54
    }
   ],
   "source": [
    "df.shape"
   ],
   "metadata": {
    "collapsed": false,
    "pycharm": {
     "name": "#%%\n",
     "is_executing": false
    }
   }
  },
  {
   "cell_type": "code",
   "execution_count": 55,
   "outputs": [
    {
     "name": "stdout",
     "text": [
      "<class 'pandas.core.frame.DataFrame'>\n",
      "RangeIndex: 17807 entries, 0 to 17806\n",
      "Data columns (total 68 columns):\n",
      "PMID    17807 non-null object\n",
      "OWN     17806 non-null object\n",
      "STAT    17807 non-null object\n",
      "LR      17806 non-null object\n",
      "IS      17797 non-null object\n",
      "DP      17807 non-null object\n",
      "TI      17807 non-null object\n",
      "LID     8151 non-null object\n",
      "AB      17684 non-null object\n",
      "CI      3252 non-null object\n",
      "FAU     17798 non-null object\n",
      "AU      17798 non-null object\n",
      "AD      16719 non-null object\n",
      "LA      17807 non-null object\n",
      "PT      17807 non-null object\n",
      "DEP     7825 non-null object\n",
      "PL      17807 non-null object\n",
      "TA      17806 non-null object\n",
      "JT      17806 non-null object\n",
      "JID     17806 non-null object\n",
      "SB      17277 non-null object\n",
      "OTO     3193 non-null object\n",
      "OT      3193 non-null object\n",
      "EDAT    17807 non-null object\n",
      "MHDA    17807 non-null object\n",
      "CRDT    17806 non-null object\n",
      "PHST    17806 non-null object\n",
      "AID     16026 non-null object\n",
      "PST     17806 non-null object\n",
      "SO      17806 non-null object\n",
      "AUID    1490 non-null object\n",
      "GR      6496 non-null object\n",
      "VI      17633 non-null object\n",
      "PG      17339 non-null object\n",
      "PMC     7686 non-null object\n",
      "IP      15975 non-null object\n",
      "COIS    429 non-null object\n",
      "MID     1093 non-null object\n",
      "PMCR    190 non-null object\n",
      "DCOM    16707 non-null object\n",
      "RN      15554 non-null object\n",
      "MH      16605 non-null object\n",
      "CN      108 non-null object\n",
      "SI      4443 non-null object\n",
      "CIN     559 non-null object\n",
      "EFR     7 non-null object\n",
      "TT      29 non-null object\n",
      "EIN     352 non-null object\n",
      "CON     49 non-null object\n",
      "IR      48 non-null object\n",
      "FIR     48 non-null object\n",
      "OAB     1 non-null object\n",
      "OABL    1 non-null object\n",
      "DA      1 non-null object\n",
      "ISBN    1 non-null object\n",
      "PB      1 non-null object\n",
      "BTI     1 non-null object\n",
      "CP      1 non-null object\n",
      "FED     1 non-null object\n",
      "ED      1 non-null object\n",
      "CDAT    1 non-null object\n",
      "OID     39 non-null object\n",
      "GN      9 non-null object\n",
      "RIN     4 non-null object\n",
      "RF      191 non-null object\n",
      "IRAD    7 non-null object\n",
      "SFM     2 non-null object\n",
      "GS      613 non-null object\n",
      "dtypes: object(68)\n",
      "memory usage: 9.2+ MB\n"
     ],
     "output_type": "stream"
    }
   ],
   "source": [
    "df.info()"
   ],
   "metadata": {
    "collapsed": false,
    "pycharm": {
     "name": "#%%\n",
     "is_executing": false
    }
   }
  },
  {
   "cell_type": "code",
   "execution_count": 56,
   "outputs": [
    {
     "data": {
      "text/plain": "       PMID  OWN            STAT        LR  \\\n0  31810988  NLM       Publisher  20191207   \n1  31810883  NLM       Publisher  20191207   \n2  31804413  NLM       Publisher  20191205   \n3  31803960  NLM       Publisher  20191205   \n4  31803196  NLM  In-Data-Review  20191205   \n\n                                           IS           DP  \\\n0  1943-2631 (Electronic) 0016-6731 (Linking)   2019 Dec 6   \n1  1097-4180 (Electronic) 1074-7613 (Linking)  2019 Nov 27   \n2  2163-0763 (Electronic) 2163-0755 (Linking)   2019 Dec 5   \n3  1938-3673 (Electronic) 0741-5400 (Linking)   2019 Dec 4   \n4  1664-3224 (Electronic) 1664-3224 (Linking)         2019   \n\n                                                  TI  \\\n0  Binding and Regulation of Transcription by Yea...   \n1  CD4(+) T Cell Help Is Required for the Formati...   \n2  Early Single-Dose Treatment with Exosomes Prov...   \n3  Dissecting the human immune system with single...   \n4  Understanding the Heterogeneity of Resident Li...   \n\n                                                 LID  \\\n0  genetics.302929.2019 [pii] 10.1534/genetics.11...   \n1  S1074-7613(19)30453-4 [pii] 10.1016/j.immuni.2...   \n2                  10.1097/TA.0000000000002563 [doi]   \n3                     10.1002/JLB.5MR1019-179R [doi]   \n4                     10.3389/fimmu.2019.02694 [doi]   \n\n                                                  AB  \\\n0  Amino acid substitutions are commonly found in...   \n1  Although CD4(+) T cell \"help\" is crucial to su...   \n2  BACKGROUND: Administration of human mesenchyma...   \n3  Single-cell RNA sequencing (scRNA-seq) is a po...   \n4  Resident tissue macrophages (RTMs) are cells w...   \n\n                                                  CI  ...  FED   ED CDAT  OID  \\\n0                    [Copyright (c) 2019, Genetics.]  ...  NaN  NaN  NaN  NaN   \n1  [Copyright (c) 2019 Elsevier Inc. All rights r...  ...  NaN  NaN  NaN  NaN   \n2                                                NaN  ...  NaN  NaN  NaN  NaN   \n3           [(c)2019 Society for Leukocyte Biology.]  ...  NaN  NaN  NaN  NaN   \n4          [Copyright (c) 2019 Bleriot and Ginhoux.]  ...  NaN  NaN  NaN  NaN   \n\n    GN  RIN   RF IRAD  SFM   GS  \n0  NaN  NaN  NaN  NaN  NaN  NaN  \n1  NaN  NaN  NaN  NaN  NaN  NaN  \n2  NaN  NaN  NaN  NaN  NaN  NaN  \n3  NaN  NaN  NaN  NaN  NaN  NaN  \n4  NaN  NaN  NaN  NaN  NaN  NaN  \n\n[5 rows x 68 columns]",
      "text/html": "<div>\n<style scoped>\n    .dataframe tbody tr th:only-of-type {\n        vertical-align: middle;\n    }\n\n    .dataframe tbody tr th {\n        vertical-align: top;\n    }\n\n    .dataframe thead th {\n        text-align: right;\n    }\n</style>\n<table border=\"1\" class=\"dataframe\">\n  <thead>\n    <tr style=\"text-align: right;\">\n      <th></th>\n      <th>PMID</th>\n      <th>OWN</th>\n      <th>STAT</th>\n      <th>LR</th>\n      <th>IS</th>\n      <th>DP</th>\n      <th>TI</th>\n      <th>LID</th>\n      <th>AB</th>\n      <th>CI</th>\n      <th>...</th>\n      <th>FED</th>\n      <th>ED</th>\n      <th>CDAT</th>\n      <th>OID</th>\n      <th>GN</th>\n      <th>RIN</th>\n      <th>RF</th>\n      <th>IRAD</th>\n      <th>SFM</th>\n      <th>GS</th>\n    </tr>\n  </thead>\n  <tbody>\n    <tr>\n      <th>0</th>\n      <td>31810988</td>\n      <td>NLM</td>\n      <td>Publisher</td>\n      <td>20191207</td>\n      <td>1943-2631 (Electronic) 0016-6731 (Linking)</td>\n      <td>2019 Dec 6</td>\n      <td>Binding and Regulation of Transcription by Yea...</td>\n      <td>genetics.302929.2019 [pii] 10.1534/genetics.11...</td>\n      <td>Amino acid substitutions are commonly found in...</td>\n      <td>[Copyright (c) 2019, Genetics.]</td>\n      <td>...</td>\n      <td>NaN</td>\n      <td>NaN</td>\n      <td>NaN</td>\n      <td>NaN</td>\n      <td>NaN</td>\n      <td>NaN</td>\n      <td>NaN</td>\n      <td>NaN</td>\n      <td>NaN</td>\n      <td>NaN</td>\n    </tr>\n    <tr>\n      <th>1</th>\n      <td>31810883</td>\n      <td>NLM</td>\n      <td>Publisher</td>\n      <td>20191207</td>\n      <td>1097-4180 (Electronic) 1074-7613 (Linking)</td>\n      <td>2019 Nov 27</td>\n      <td>CD4(+) T Cell Help Is Required for the Formati...</td>\n      <td>S1074-7613(19)30453-4 [pii] 10.1016/j.immuni.2...</td>\n      <td>Although CD4(+) T cell \"help\" is crucial to su...</td>\n      <td>[Copyright (c) 2019 Elsevier Inc. All rights r...</td>\n      <td>...</td>\n      <td>NaN</td>\n      <td>NaN</td>\n      <td>NaN</td>\n      <td>NaN</td>\n      <td>NaN</td>\n      <td>NaN</td>\n      <td>NaN</td>\n      <td>NaN</td>\n      <td>NaN</td>\n      <td>NaN</td>\n    </tr>\n    <tr>\n      <th>2</th>\n      <td>31804413</td>\n      <td>NLM</td>\n      <td>Publisher</td>\n      <td>20191205</td>\n      <td>2163-0763 (Electronic) 2163-0755 (Linking)</td>\n      <td>2019 Dec 5</td>\n      <td>Early Single-Dose Treatment with Exosomes Prov...</td>\n      <td>10.1097/TA.0000000000002563 [doi]</td>\n      <td>BACKGROUND: Administration of human mesenchyma...</td>\n      <td>NaN</td>\n      <td>...</td>\n      <td>NaN</td>\n      <td>NaN</td>\n      <td>NaN</td>\n      <td>NaN</td>\n      <td>NaN</td>\n      <td>NaN</td>\n      <td>NaN</td>\n      <td>NaN</td>\n      <td>NaN</td>\n      <td>NaN</td>\n    </tr>\n    <tr>\n      <th>3</th>\n      <td>31803960</td>\n      <td>NLM</td>\n      <td>Publisher</td>\n      <td>20191205</td>\n      <td>1938-3673 (Electronic) 0741-5400 (Linking)</td>\n      <td>2019 Dec 4</td>\n      <td>Dissecting the human immune system with single...</td>\n      <td>10.1002/JLB.5MR1019-179R [doi]</td>\n      <td>Single-cell RNA sequencing (scRNA-seq) is a po...</td>\n      <td>[(c)2019 Society for Leukocyte Biology.]</td>\n      <td>...</td>\n      <td>NaN</td>\n      <td>NaN</td>\n      <td>NaN</td>\n      <td>NaN</td>\n      <td>NaN</td>\n      <td>NaN</td>\n      <td>NaN</td>\n      <td>NaN</td>\n      <td>NaN</td>\n      <td>NaN</td>\n    </tr>\n    <tr>\n      <th>4</th>\n      <td>31803196</td>\n      <td>NLM</td>\n      <td>In-Data-Review</td>\n      <td>20191205</td>\n      <td>1664-3224 (Electronic) 1664-3224 (Linking)</td>\n      <td>2019</td>\n      <td>Understanding the Heterogeneity of Resident Li...</td>\n      <td>10.3389/fimmu.2019.02694 [doi]</td>\n      <td>Resident tissue macrophages (RTMs) are cells w...</td>\n      <td>[Copyright (c) 2019 Bleriot and Ginhoux.]</td>\n      <td>...</td>\n      <td>NaN</td>\n      <td>NaN</td>\n      <td>NaN</td>\n      <td>NaN</td>\n      <td>NaN</td>\n      <td>NaN</td>\n      <td>NaN</td>\n      <td>NaN</td>\n      <td>NaN</td>\n      <td>NaN</td>\n    </tr>\n  </tbody>\n</table>\n<p>5 rows × 68 columns</p>\n</div>"
     },
     "metadata": {},
     "output_type": "execute_result",
     "execution_count": 56
    }
   ],
   "source": [
    "df.head()\n"
   ],
   "metadata": {
    "collapsed": false,
    "pycharm": {
     "name": "#%%\n",
     "is_executing": false
    }
   }
  },
  {
   "cell_type": "markdown",
   "source": [
    "## Feature Extraction\n",
    "From the basic exploration, we are able to determine that there are various features we can create and features that we do\n",
    "not need for our analysis.\n",
    "\n",
    "Lets create some features from our data to make analysis a bit easier and go into our secondary EDA. Some features we might\n",
    "look to create are separating the year from the data column, possibly separating each time interval from the date column, and\n",
    "isolating our authors so that we have one author per line"
   ],
   "metadata": {
    "collapsed": false
   }
  },
  {
   "cell_type": "code",
   "execution_count": 57,
   "outputs": [
    {
     "data": {
      "text/plain": "        KEY                                            AUTHORS  \\\n0  31810988  [Zhou, Wei, Dorrity, Michael W, Bubb, Kerry L,...   \n1  31810883  [Zander, Ryan, Schauder, David, Xin, Gang, Ngu...   \n2  31804413  [Williams, Aaron M, Bhatti, Umar F, Brown, Jor...   \n3  31803960  [Xu, Gang, Liu, Yang, Li, Hanjie, Liu, Lei, Zh...   \n4  31803196               [Bleriot, Camille, Ginhoux, Florent]   \n\n                                            ABSTRACT              DATE  \\\n0  Amino acid substitutions are commonly found in...  2019/12/08 06:00   \n1  Although CD4(+) T cell \"help\" is crucial to su...  2019/12/08 06:00   \n2  BACKGROUND: Administration of human mesenchyma...  2019/12/06 06:00   \n3  Single-cell RNA sequencing (scRNA-seq) is a po...  2019/12/06 06:00   \n4  Resident tissue macrophages (RTMs) are cells w...  2019/12/06 06:00   \n\n                      TITLE                                           KEYWORDS  \n0                  Genetics  [gene expression regulation, genome binding, p...  \n1                  Immunity  [CD4(+) T cell help, CD8(+) T cell heterogenei...  \n2  J Trauma Acute Care Surg                                                NaN  \n3             J Leukoc Biol  [cell type identification, human immune system...  \n4             Front Immunol  [heterogeneity, liver, macrophage, monocyte, s...  ",
      "text/html": "<div>\n<style scoped>\n    .dataframe tbody tr th:only-of-type {\n        vertical-align: middle;\n    }\n\n    .dataframe tbody tr th {\n        vertical-align: top;\n    }\n\n    .dataframe thead th {\n        text-align: right;\n    }\n</style>\n<table border=\"1\" class=\"dataframe\">\n  <thead>\n    <tr style=\"text-align: right;\">\n      <th></th>\n      <th>KEY</th>\n      <th>AUTHORS</th>\n      <th>ABSTRACT</th>\n      <th>DATE</th>\n      <th>TITLE</th>\n      <th>KEYWORDS</th>\n    </tr>\n  </thead>\n  <tbody>\n    <tr>\n      <th>0</th>\n      <td>31810988</td>\n      <td>[Zhou, Wei, Dorrity, Michael W, Bubb, Kerry L,...</td>\n      <td>Amino acid substitutions are commonly found in...</td>\n      <td>2019/12/08 06:00</td>\n      <td>Genetics</td>\n      <td>[gene expression regulation, genome binding, p...</td>\n    </tr>\n    <tr>\n      <th>1</th>\n      <td>31810883</td>\n      <td>[Zander, Ryan, Schauder, David, Xin, Gang, Ngu...</td>\n      <td>Although CD4(+) T cell \"help\" is crucial to su...</td>\n      <td>2019/12/08 06:00</td>\n      <td>Immunity</td>\n      <td>[CD4(+) T cell help, CD8(+) T cell heterogenei...</td>\n    </tr>\n    <tr>\n      <th>2</th>\n      <td>31804413</td>\n      <td>[Williams, Aaron M, Bhatti, Umar F, Brown, Jor...</td>\n      <td>BACKGROUND: Administration of human mesenchyma...</td>\n      <td>2019/12/06 06:00</td>\n      <td>J Trauma Acute Care Surg</td>\n      <td>NaN</td>\n    </tr>\n    <tr>\n      <th>3</th>\n      <td>31803960</td>\n      <td>[Xu, Gang, Liu, Yang, Li, Hanjie, Liu, Lei, Zh...</td>\n      <td>Single-cell RNA sequencing (scRNA-seq) is a po...</td>\n      <td>2019/12/06 06:00</td>\n      <td>J Leukoc Biol</td>\n      <td>[cell type identification, human immune system...</td>\n    </tr>\n    <tr>\n      <th>4</th>\n      <td>31803196</td>\n      <td>[Bleriot, Camille, Ginhoux, Florent]</td>\n      <td>Resident tissue macrophages (RTMs) are cells w...</td>\n      <td>2019/12/06 06:00</td>\n      <td>Front Immunol</td>\n      <td>[heterogeneity, liver, macrophage, monocyte, s...</td>\n    </tr>\n  </tbody>\n</table>\n</div>"
     },
     "metadata": {},
     "output_type": "execute_result",
     "execution_count": 57
    }
   ],
   "source": [
    "# remove columns not needed for analysis\n",
    "df = df[['PMID', 'FAU', 'AB', 'EDAT', 'TA', 'OT']]\n",
    "\n",
    "# rename columns for explicitness\n",
    "df.columns = ['KEY', 'AUTHORS', 'ABSTRACT', 'DATE', 'TITLE', 'KEYWORDS']\n",
    "df.head()"
   ],
   "metadata": {
    "collapsed": false,
    "pycharm": {
     "name": "#%%\n",
     "is_executing": false
    }
   }
  },
  {
   "cell_type": "code",
   "execution_count": 58,
   "outputs": [],
   "source": [
    "# create separate date columns\n",
    "df['DATE_'] = pd.to_datetime(df['DATE'], infer_datetime_format=True)\n",
    "\n",
    "# create year, month, day columns\n",
    "df['YEAR'] = df['DATE_'].dt.year\n",
    "df['MONTH'] = df['DATE_'].dt.month\n",
    "df['DAY'] = df['DATE_'].dt.day\n",
    "df['TIME'] = df['DATE_'].dt.time"
   ],
   "metadata": {
    "collapsed": false,
    "pycharm": {
     "name": "#%%\n",
     "is_executing": false
    }
   }
  },
  {
   "cell_type": "code",
   "execution_count": 59,
   "outputs": [],
   "source": [
    "# create ngram\n",
    "df['MONOGRAMS'] = df['ABSTRACT'].fillna('?').str.lower().str.split(' ')\n",
    "df['BIGRAMS'] = df['ABSTRACT'].fillna('?').str.lower().str.split(' ').apply(lambda x: list(ngrams(x, 2)))\n",
    "df['TRIGRAMS'] = df['ABSTRACT'].fillna('?').str.lower().str.split(' ').apply(lambda x: list(ngrams(x, 3)))"
   ],
   "metadata": {
    "collapsed": false,
    "pycharm": {
     "name": "#%%\n",
     "is_executing": false
    }
   }
  },
  {
   "cell_type": "code",
   "execution_count": 60,
   "outputs": [
    {
     "data": {
      "text/plain": "        KEY               AUTHOR  \\\n0  31810988            Zhou, Wei   \n1  31810988   Dorrity, Michael W   \n2  31810988        Bubb, Kerry L   \n3  31810988  Queitsch, Christine   \n4  31810988      Fields, Stanley   \n\n                                            ABSTRACT              DATE  \\\n0  Amino acid substitutions are commonly found in...  2019/12/08 06:00   \n1  Amino acid substitutions are commonly found in...  2019/12/08 06:00   \n2  Amino acid substitutions are commonly found in...  2019/12/08 06:00   \n3  Amino acid substitutions are commonly found in...  2019/12/08 06:00   \n4  Amino acid substitutions are commonly found in...  2019/12/08 06:00   \n\n      TITLE                                           KEYWORDS  \\\n0  Genetics  [gene expression regulation, genome binding, p...   \n1  Genetics  [gene expression regulation, genome binding, p...   \n2  Genetics  [gene expression regulation, genome binding, p...   \n3  Genetics  [gene expression regulation, genome binding, p...   \n4  Genetics  [gene expression regulation, genome binding, p...   \n\n                DATE_  YEAR  MONTH  DAY      TIME  \\\n0 2019-12-08 06:00:00  2019     12    8  06:00:00   \n1 2019-12-08 06:00:00  2019     12    8  06:00:00   \n2 2019-12-08 06:00:00  2019     12    8  06:00:00   \n3 2019-12-08 06:00:00  2019     12    8  06:00:00   \n4 2019-12-08 06:00:00  2019     12    8  06:00:00   \n\n                                           MONOGRAMS  \\\n0  [amino, acid, substitutions, are, commonly, fo...   \n1  [amino, acid, substitutions, are, commonly, fo...   \n2  [amino, acid, substitutions, are, commonly, fo...   \n3  [amino, acid, substitutions, are, commonly, fo...   \n4  [amino, acid, substitutions, are, commonly, fo...   \n\n                                             BIGRAMS  \\\n0  [(amino, acid), (acid, substitutions), (substi...   \n1  [(amino, acid), (acid, substitutions), (substi...   \n2  [(amino, acid), (acid, substitutions), (substi...   \n3  [(amino, acid), (acid, substitutions), (substi...   \n4  [(amino, acid), (acid, substitutions), (substi...   \n\n                                            TRIGRAMS  \n0  [(amino, acid, substitutions), (acid, substitu...  \n1  [(amino, acid, substitutions), (acid, substitu...  \n2  [(amino, acid, substitutions), (acid, substitu...  \n3  [(amino, acid, substitutions), (acid, substitu...  \n4  [(amino, acid, substitutions), (acid, substitu...  ",
      "text/html": "<div>\n<style scoped>\n    .dataframe tbody tr th:only-of-type {\n        vertical-align: middle;\n    }\n\n    .dataframe tbody tr th {\n        vertical-align: top;\n    }\n\n    .dataframe thead th {\n        text-align: right;\n    }\n</style>\n<table border=\"1\" class=\"dataframe\">\n  <thead>\n    <tr style=\"text-align: right;\">\n      <th></th>\n      <th>KEY</th>\n      <th>AUTHOR</th>\n      <th>ABSTRACT</th>\n      <th>DATE</th>\n      <th>TITLE</th>\n      <th>KEYWORDS</th>\n      <th>DATE_</th>\n      <th>YEAR</th>\n      <th>MONTH</th>\n      <th>DAY</th>\n      <th>TIME</th>\n      <th>MONOGRAMS</th>\n      <th>BIGRAMS</th>\n      <th>TRIGRAMS</th>\n    </tr>\n  </thead>\n  <tbody>\n    <tr>\n      <th>0</th>\n      <td>31810988</td>\n      <td>Zhou, Wei</td>\n      <td>Amino acid substitutions are commonly found in...</td>\n      <td>2019/12/08 06:00</td>\n      <td>Genetics</td>\n      <td>[gene expression regulation, genome binding, p...</td>\n      <td>2019-12-08 06:00:00</td>\n      <td>2019</td>\n      <td>12</td>\n      <td>8</td>\n      <td>06:00:00</td>\n      <td>[amino, acid, substitutions, are, commonly, fo...</td>\n      <td>[(amino, acid), (acid, substitutions), (substi...</td>\n      <td>[(amino, acid, substitutions), (acid, substitu...</td>\n    </tr>\n    <tr>\n      <th>1</th>\n      <td>31810988</td>\n      <td>Dorrity, Michael W</td>\n      <td>Amino acid substitutions are commonly found in...</td>\n      <td>2019/12/08 06:00</td>\n      <td>Genetics</td>\n      <td>[gene expression regulation, genome binding, p...</td>\n      <td>2019-12-08 06:00:00</td>\n      <td>2019</td>\n      <td>12</td>\n      <td>8</td>\n      <td>06:00:00</td>\n      <td>[amino, acid, substitutions, are, commonly, fo...</td>\n      <td>[(amino, acid), (acid, substitutions), (substi...</td>\n      <td>[(amino, acid, substitutions), (acid, substitu...</td>\n    </tr>\n    <tr>\n      <th>2</th>\n      <td>31810988</td>\n      <td>Bubb, Kerry L</td>\n      <td>Amino acid substitutions are commonly found in...</td>\n      <td>2019/12/08 06:00</td>\n      <td>Genetics</td>\n      <td>[gene expression regulation, genome binding, p...</td>\n      <td>2019-12-08 06:00:00</td>\n      <td>2019</td>\n      <td>12</td>\n      <td>8</td>\n      <td>06:00:00</td>\n      <td>[amino, acid, substitutions, are, commonly, fo...</td>\n      <td>[(amino, acid), (acid, substitutions), (substi...</td>\n      <td>[(amino, acid, substitutions), (acid, substitu...</td>\n    </tr>\n    <tr>\n      <th>3</th>\n      <td>31810988</td>\n      <td>Queitsch, Christine</td>\n      <td>Amino acid substitutions are commonly found in...</td>\n      <td>2019/12/08 06:00</td>\n      <td>Genetics</td>\n      <td>[gene expression regulation, genome binding, p...</td>\n      <td>2019-12-08 06:00:00</td>\n      <td>2019</td>\n      <td>12</td>\n      <td>8</td>\n      <td>06:00:00</td>\n      <td>[amino, acid, substitutions, are, commonly, fo...</td>\n      <td>[(amino, acid), (acid, substitutions), (substi...</td>\n      <td>[(amino, acid, substitutions), (acid, substitu...</td>\n    </tr>\n    <tr>\n      <th>4</th>\n      <td>31810988</td>\n      <td>Fields, Stanley</td>\n      <td>Amino acid substitutions are commonly found in...</td>\n      <td>2019/12/08 06:00</td>\n      <td>Genetics</td>\n      <td>[gene expression regulation, genome binding, p...</td>\n      <td>2019-12-08 06:00:00</td>\n      <td>2019</td>\n      <td>12</td>\n      <td>8</td>\n      <td>06:00:00</td>\n      <td>[amino, acid, substitutions, are, commonly, fo...</td>\n      <td>[(amino, acid), (acid, substitutions), (substi...</td>\n      <td>[(amino, acid, substitutions), (acid, substitu...</td>\n    </tr>\n  </tbody>\n</table>\n</div>"
     },
     "metadata": {},
     "output_type": "execute_result",
     "execution_count": 60
    }
   ],
   "source": [
    "# create new dataframe based on authors\n",
    "x_df = pd.DataFrame(df.AUTHORS.fillna('??????').str.join('|').str.split('|').tolist(), index=df.KEY).stack()\n",
    "x_df = x_df.reset_index([0, 'KEY'])\n",
    "x_df.columns = ['KEY', 'AUTHOR']\n",
    "\n",
    "# join original data back to the new df\n",
    "x_df = x_df.merge(df.drop(columns=['AUTHORS']), on=['KEY'])\n",
    "x_df.head()"
   ],
   "metadata": {
    "collapsed": false,
    "pycharm": {
     "name": "#%%\n",
     "is_executing": false
    }
   }
  },
  {
   "cell_type": "code",
   "execution_count": 61,
   "outputs": [],
   "source": [
    "# join keywords in a single list\n",
    "x_df['KEYWORDS_MERGED'] = x_df['KEYWORDS'].str.join('|')"
   ],
   "metadata": {
    "collapsed": false,
    "pycharm": {
     "name": "#%%\n",
     "is_executing": false
    }
   }
  },
  {
   "cell_type": "code",
   "execution_count": 62,
   "outputs": [
    {
     "data": {
      "text/plain": "<Figure size 12000x12000 with 0 Axes>"
     },
     "metadata": {},
     "output_type": "execute_result",
     "execution_count": 62
    },
    {
     "data": {
      "text/plain": "<matplotlib.axes._subplots.AxesSubplot at 0x24bebf37248>"
     },
     "metadata": {},
     "output_type": "execute_result",
     "execution_count": 62
    },
    {
     "data": {
      "text/plain": "<matplotlib.axes._subplots.AxesSubplot at 0x24bebf37248>"
     },
     "metadata": {},
     "output_type": "execute_result",
     "execution_count": 62
    },
    {
     "data": {
      "text/plain": "Text(0.5, 1.0, 'Top 10 Authors')"
     },
     "metadata": {},
     "output_type": "execute_result",
     "execution_count": 62
    },
    {
     "data": {
      "text/plain": "<matplotlib.axes._subplots.AxesSubplot at 0x24d2b62ebc8>"
     },
     "metadata": {},
     "output_type": "execute_result",
     "execution_count": 62
    },
    {
     "data": {
      "text/plain": "<matplotlib.axes._subplots.AxesSubplot at 0x24d2b62ebc8>"
     },
     "metadata": {},
     "output_type": "execute_result",
     "execution_count": 62
    },
    {
     "data": {
      "text/plain": "Text(0.5, 1.0, 'Publications Over Time')"
     },
     "metadata": {},
     "output_type": "execute_result",
     "execution_count": 62
    },
    {
     "data": {
      "text/plain": "(1971, 2019)"
     },
     "metadata": {},
     "output_type": "execute_result",
     "execution_count": 62
    },
    {
     "data": {
      "text/plain": "<matplotlib.axes._subplots.AxesSubplot at 0x24d2b626d88>"
     },
     "metadata": {},
     "output_type": "execute_result",
     "execution_count": 62
    },
    {
     "data": {
      "text/plain": "<matplotlib.axes._subplots.AxesSubplot at 0x24d2b626d88>"
     },
     "metadata": {},
     "output_type": "execute_result",
     "execution_count": 62
    },
    {
     "data": {
      "text/plain": "Text(0.5, 1.0, 'Top 10 Journals')"
     },
     "metadata": {},
     "output_type": "execute_result",
     "execution_count": 62
    },
    {
     "data": {
      "text/plain": "<matplotlib.axes._subplots.AxesSubplot at 0x24d2b5fa188>"
     },
     "metadata": {},
     "output_type": "execute_result",
     "execution_count": 62
    },
    {
     "data": {
      "text/plain": "<matplotlib.axes._subplots.AxesSubplot at 0x24d2b5fa188>"
     },
     "metadata": {},
     "output_type": "execute_result",
     "execution_count": 62
    },
    {
     "data": {
      "text/plain": "Text(0.5, 1.0, 'Top 10 Keywords')"
     },
     "metadata": {},
     "output_type": "execute_result",
     "execution_count": 62
    },
    {
     "name": "stdout",
     "text": [
      "Error in callback <function flush_figures at 0x0000024BEB9818B8> (for post_execute):\n"
     ],
     "output_type": "stream"
    },
    {
     "traceback": [
      "\u001b[1;31m---------------------------------------------------------------------------\u001b[0m",
      "\u001b[1;31mKeyboardInterrupt\u001b[0m                         Traceback (most recent call last)",
      "\u001b[1;32m~\\Miniconda3\\envs\\data620final\\lib\\site-packages\\ipykernel\\pylab\\backend_inline.py\u001b[0m in \u001b[0;36mflush_figures\u001b[1;34m()\u001b[0m\n\u001b[0;32m    115\u001b[0m         \u001b[1;31m# ignore the tracking, just draw and close all figures\u001b[0m\u001b[1;33m\u001b[0m\u001b[1;33m\u001b[0m\u001b[1;33m\u001b[0m\u001b[0m\n\u001b[0;32m    116\u001b[0m         \u001b[1;32mtry\u001b[0m\u001b[1;33m:\u001b[0m\u001b[1;33m\u001b[0m\u001b[1;33m\u001b[0m\u001b[0m\n\u001b[1;32m--> 117\u001b[1;33m             \u001b[1;32mreturn\u001b[0m \u001b[0mshow\u001b[0m\u001b[1;33m(\u001b[0m\u001b[1;32mTrue\u001b[0m\u001b[1;33m)\u001b[0m\u001b[1;33m\u001b[0m\u001b[1;33m\u001b[0m\u001b[0m\n\u001b[0m\u001b[0;32m    118\u001b[0m         \u001b[1;32mexcept\u001b[0m \u001b[0mException\u001b[0m \u001b[1;32mas\u001b[0m \u001b[0me\u001b[0m\u001b[1;33m:\u001b[0m\u001b[1;33m\u001b[0m\u001b[1;33m\u001b[0m\u001b[0m\n\u001b[0;32m    119\u001b[0m             \u001b[1;31m# safely show traceback if in IPython, else raise\u001b[0m\u001b[1;33m\u001b[0m\u001b[1;33m\u001b[0m\u001b[1;33m\u001b[0m\u001b[0m\n",
      "\u001b[1;32m~\\Miniconda3\\envs\\data620final\\lib\\site-packages\\ipykernel\\pylab\\backend_inline.py\u001b[0m in \u001b[0;36mshow\u001b[1;34m(close, block)\u001b[0m\n\u001b[0;32m     37\u001b[0m             display(\n\u001b[0;32m     38\u001b[0m                 \u001b[0mfigure_manager\u001b[0m\u001b[1;33m.\u001b[0m\u001b[0mcanvas\u001b[0m\u001b[1;33m.\u001b[0m\u001b[0mfigure\u001b[0m\u001b[1;33m,\u001b[0m\u001b[1;33m\u001b[0m\u001b[1;33m\u001b[0m\u001b[0m\n\u001b[1;32m---> 39\u001b[1;33m                 \u001b[0mmetadata\u001b[0m\u001b[1;33m=\u001b[0m\u001b[0m_fetch_figure_metadata\u001b[0m\u001b[1;33m(\u001b[0m\u001b[0mfigure_manager\u001b[0m\u001b[1;33m.\u001b[0m\u001b[0mcanvas\u001b[0m\u001b[1;33m.\u001b[0m\u001b[0mfigure\u001b[0m\u001b[1;33m)\u001b[0m\u001b[1;33m\u001b[0m\u001b[1;33m\u001b[0m\u001b[0m\n\u001b[0m\u001b[0;32m     40\u001b[0m             )\n\u001b[0;32m     41\u001b[0m     \u001b[1;32mfinally\u001b[0m\u001b[1;33m:\u001b[0m\u001b[1;33m\u001b[0m\u001b[1;33m\u001b[0m\u001b[0m\n",
      "\u001b[1;32m~\\Miniconda3\\envs\\data620final\\lib\\site-packages\\IPython\\core\\display.py\u001b[0m in \u001b[0;36mdisplay\u001b[1;34m(include, exclude, metadata, transient, display_id, *objs, **kwargs)\u001b[0m\n\u001b[0;32m    311\u001b[0m             \u001b[0mpublish_display_data\u001b[0m\u001b[1;33m(\u001b[0m\u001b[0mdata\u001b[0m\u001b[1;33m=\u001b[0m\u001b[0mobj\u001b[0m\u001b[1;33m,\u001b[0m \u001b[0mmetadata\u001b[0m\u001b[1;33m=\u001b[0m\u001b[0mmetadata\u001b[0m\u001b[1;33m,\u001b[0m \u001b[1;33m**\u001b[0m\u001b[0mkwargs\u001b[0m\u001b[1;33m)\u001b[0m\u001b[1;33m\u001b[0m\u001b[1;33m\u001b[0m\u001b[0m\n\u001b[0;32m    312\u001b[0m         \u001b[1;32melse\u001b[0m\u001b[1;33m:\u001b[0m\u001b[1;33m\u001b[0m\u001b[1;33m\u001b[0m\u001b[0m\n\u001b[1;32m--> 313\u001b[1;33m             \u001b[0mformat_dict\u001b[0m\u001b[1;33m,\u001b[0m \u001b[0mmd_dict\u001b[0m \u001b[1;33m=\u001b[0m \u001b[0mformat\u001b[0m\u001b[1;33m(\u001b[0m\u001b[0mobj\u001b[0m\u001b[1;33m,\u001b[0m \u001b[0minclude\u001b[0m\u001b[1;33m=\u001b[0m\u001b[0minclude\u001b[0m\u001b[1;33m,\u001b[0m \u001b[0mexclude\u001b[0m\u001b[1;33m=\u001b[0m\u001b[0mexclude\u001b[0m\u001b[1;33m)\u001b[0m\u001b[1;33m\u001b[0m\u001b[1;33m\u001b[0m\u001b[0m\n\u001b[0m\u001b[0;32m    314\u001b[0m             \u001b[1;32mif\u001b[0m \u001b[1;32mnot\u001b[0m \u001b[0mformat_dict\u001b[0m\u001b[1;33m:\u001b[0m\u001b[1;33m\u001b[0m\u001b[1;33m\u001b[0m\u001b[0m\n\u001b[0;32m    315\u001b[0m                 \u001b[1;31m# nothing to display (e.g. _ipython_display_ took over)\u001b[0m\u001b[1;33m\u001b[0m\u001b[1;33m\u001b[0m\u001b[1;33m\u001b[0m\u001b[0m\n",
      "\u001b[1;32m~\\Miniconda3\\envs\\data620final\\lib\\site-packages\\IPython\\core\\formatters.py\u001b[0m in \u001b[0;36mformat\u001b[1;34m(self, obj, include, exclude)\u001b[0m\n\u001b[0;32m    178\u001b[0m             \u001b[0mmd\u001b[0m \u001b[1;33m=\u001b[0m \u001b[1;32mNone\u001b[0m\u001b[1;33m\u001b[0m\u001b[1;33m\u001b[0m\u001b[0m\n\u001b[0;32m    179\u001b[0m             \u001b[1;32mtry\u001b[0m\u001b[1;33m:\u001b[0m\u001b[1;33m\u001b[0m\u001b[1;33m\u001b[0m\u001b[0m\n\u001b[1;32m--> 180\u001b[1;33m                 \u001b[0mdata\u001b[0m \u001b[1;33m=\u001b[0m \u001b[0mformatter\u001b[0m\u001b[1;33m(\u001b[0m\u001b[0mobj\u001b[0m\u001b[1;33m)\u001b[0m\u001b[1;33m\u001b[0m\u001b[1;33m\u001b[0m\u001b[0m\n\u001b[0m\u001b[0;32m    181\u001b[0m             \u001b[1;32mexcept\u001b[0m\u001b[1;33m:\u001b[0m\u001b[1;33m\u001b[0m\u001b[1;33m\u001b[0m\u001b[0m\n\u001b[0;32m    182\u001b[0m                 \u001b[1;31m# FIXME: log the exception\u001b[0m\u001b[1;33m\u001b[0m\u001b[1;33m\u001b[0m\u001b[1;33m\u001b[0m\u001b[0m\n",
      "\u001b[1;32m<C:\\Users\\bacur\\Miniconda3\\envs\\data620final\\lib\\site-packages\\decorator.py:decorator-gen-9>\u001b[0m in \u001b[0;36m__call__\u001b[1;34m(self, obj)\u001b[0m\n",
      "\u001b[1;32m~\\Miniconda3\\envs\\data620final\\lib\\site-packages\\IPython\\core\\formatters.py\u001b[0m in \u001b[0;36mcatch_format_error\u001b[1;34m(method, self, *args, **kwargs)\u001b[0m\n\u001b[0;32m    222\u001b[0m     \u001b[1;34m\"\"\"show traceback on failed format call\"\"\"\u001b[0m\u001b[1;33m\u001b[0m\u001b[1;33m\u001b[0m\u001b[0m\n\u001b[0;32m    223\u001b[0m     \u001b[1;32mtry\u001b[0m\u001b[1;33m:\u001b[0m\u001b[1;33m\u001b[0m\u001b[1;33m\u001b[0m\u001b[0m\n\u001b[1;32m--> 224\u001b[1;33m         \u001b[0mr\u001b[0m \u001b[1;33m=\u001b[0m \u001b[0mmethod\u001b[0m\u001b[1;33m(\u001b[0m\u001b[0mself\u001b[0m\u001b[1;33m,\u001b[0m \u001b[1;33m*\u001b[0m\u001b[0margs\u001b[0m\u001b[1;33m,\u001b[0m \u001b[1;33m**\u001b[0m\u001b[0mkwargs\u001b[0m\u001b[1;33m)\u001b[0m\u001b[1;33m\u001b[0m\u001b[1;33m\u001b[0m\u001b[0m\n\u001b[0m\u001b[0;32m    225\u001b[0m     \u001b[1;32mexcept\u001b[0m \u001b[0mNotImplementedError\u001b[0m\u001b[1;33m:\u001b[0m\u001b[1;33m\u001b[0m\u001b[1;33m\u001b[0m\u001b[0m\n\u001b[0;32m    226\u001b[0m         \u001b[1;31m# don't warn on NotImplementedErrors\u001b[0m\u001b[1;33m\u001b[0m\u001b[1;33m\u001b[0m\u001b[1;33m\u001b[0m\u001b[0m\n",
      "\u001b[1;32m~\\Miniconda3\\envs\\data620final\\lib\\site-packages\\IPython\\core\\formatters.py\u001b[0m in \u001b[0;36m__call__\u001b[1;34m(self, obj)\u001b[0m\n\u001b[0;32m    339\u001b[0m                 \u001b[1;32mpass\u001b[0m\u001b[1;33m\u001b[0m\u001b[1;33m\u001b[0m\u001b[0m\n\u001b[0;32m    340\u001b[0m             \u001b[1;32melse\u001b[0m\u001b[1;33m:\u001b[0m\u001b[1;33m\u001b[0m\u001b[1;33m\u001b[0m\u001b[0m\n\u001b[1;32m--> 341\u001b[1;33m                 \u001b[1;32mreturn\u001b[0m \u001b[0mprinter\u001b[0m\u001b[1;33m(\u001b[0m\u001b[0mobj\u001b[0m\u001b[1;33m)\u001b[0m\u001b[1;33m\u001b[0m\u001b[1;33m\u001b[0m\u001b[0m\n\u001b[0m\u001b[0;32m    342\u001b[0m             \u001b[1;31m# Finally look for special method names\u001b[0m\u001b[1;33m\u001b[0m\u001b[1;33m\u001b[0m\u001b[1;33m\u001b[0m\u001b[0m\n\u001b[0;32m    343\u001b[0m             \u001b[0mmethod\u001b[0m \u001b[1;33m=\u001b[0m \u001b[0mget_real_method\u001b[0m\u001b[1;33m(\u001b[0m\u001b[0mobj\u001b[0m\u001b[1;33m,\u001b[0m \u001b[0mself\u001b[0m\u001b[1;33m.\u001b[0m\u001b[0mprint_method\u001b[0m\u001b[1;33m)\u001b[0m\u001b[1;33m\u001b[0m\u001b[1;33m\u001b[0m\u001b[0m\n",
      "\u001b[1;32m~\\Miniconda3\\envs\\data620final\\lib\\site-packages\\IPython\\core\\pylabtools.py\u001b[0m in \u001b[0;36m<lambda>\u001b[1;34m(fig)\u001b[0m\n\u001b[0;32m    242\u001b[0m \u001b[1;33m\u001b[0m\u001b[0m\n\u001b[0;32m    243\u001b[0m     \u001b[1;32mif\u001b[0m \u001b[1;34m'png'\u001b[0m \u001b[1;32min\u001b[0m \u001b[0mformats\u001b[0m\u001b[1;33m:\u001b[0m\u001b[1;33m\u001b[0m\u001b[1;33m\u001b[0m\u001b[0m\n\u001b[1;32m--> 244\u001b[1;33m         \u001b[0mpng_formatter\u001b[0m\u001b[1;33m.\u001b[0m\u001b[0mfor_type\u001b[0m\u001b[1;33m(\u001b[0m\u001b[0mFigure\u001b[0m\u001b[1;33m,\u001b[0m \u001b[1;32mlambda\u001b[0m \u001b[0mfig\u001b[0m\u001b[1;33m:\u001b[0m \u001b[0mprint_figure\u001b[0m\u001b[1;33m(\u001b[0m\u001b[0mfig\u001b[0m\u001b[1;33m,\u001b[0m \u001b[1;34m'png'\u001b[0m\u001b[1;33m,\u001b[0m \u001b[1;33m**\u001b[0m\u001b[0mkwargs\u001b[0m\u001b[1;33m)\u001b[0m\u001b[1;33m)\u001b[0m\u001b[1;33m\u001b[0m\u001b[1;33m\u001b[0m\u001b[0m\n\u001b[0m\u001b[0;32m    245\u001b[0m     \u001b[1;32mif\u001b[0m \u001b[1;34m'retina'\u001b[0m \u001b[1;32min\u001b[0m \u001b[0mformats\u001b[0m \u001b[1;32mor\u001b[0m \u001b[1;34m'png2x'\u001b[0m \u001b[1;32min\u001b[0m \u001b[0mformats\u001b[0m\u001b[1;33m:\u001b[0m\u001b[1;33m\u001b[0m\u001b[1;33m\u001b[0m\u001b[0m\n\u001b[0;32m    246\u001b[0m         \u001b[0mpng_formatter\u001b[0m\u001b[1;33m.\u001b[0m\u001b[0mfor_type\u001b[0m\u001b[1;33m(\u001b[0m\u001b[0mFigure\u001b[0m\u001b[1;33m,\u001b[0m \u001b[1;32mlambda\u001b[0m \u001b[0mfig\u001b[0m\u001b[1;33m:\u001b[0m \u001b[0mretina_figure\u001b[0m\u001b[1;33m(\u001b[0m\u001b[0mfig\u001b[0m\u001b[1;33m,\u001b[0m \u001b[1;33m**\u001b[0m\u001b[0mkwargs\u001b[0m\u001b[1;33m)\u001b[0m\u001b[1;33m)\u001b[0m\u001b[1;33m\u001b[0m\u001b[1;33m\u001b[0m\u001b[0m\n",
      "\u001b[1;32m~\\Miniconda3\\envs\\data620final\\lib\\site-packages\\IPython\\core\\pylabtools.py\u001b[0m in \u001b[0;36mprint_figure\u001b[1;34m(fig, fmt, bbox_inches, **kwargs)\u001b[0m\n\u001b[0;32m    126\u001b[0m \u001b[1;33m\u001b[0m\u001b[0m\n\u001b[0;32m    127\u001b[0m     \u001b[0mbytes_io\u001b[0m \u001b[1;33m=\u001b[0m \u001b[0mBytesIO\u001b[0m\u001b[1;33m(\u001b[0m\u001b[1;33m)\u001b[0m\u001b[1;33m\u001b[0m\u001b[1;33m\u001b[0m\u001b[0m\n\u001b[1;32m--> 128\u001b[1;33m     \u001b[0mfig\u001b[0m\u001b[1;33m.\u001b[0m\u001b[0mcanvas\u001b[0m\u001b[1;33m.\u001b[0m\u001b[0mprint_figure\u001b[0m\u001b[1;33m(\u001b[0m\u001b[0mbytes_io\u001b[0m\u001b[1;33m,\u001b[0m \u001b[1;33m**\u001b[0m\u001b[0mkw\u001b[0m\u001b[1;33m)\u001b[0m\u001b[1;33m\u001b[0m\u001b[1;33m\u001b[0m\u001b[0m\n\u001b[0m\u001b[0;32m    129\u001b[0m     \u001b[0mdata\u001b[0m \u001b[1;33m=\u001b[0m \u001b[0mbytes_io\u001b[0m\u001b[1;33m.\u001b[0m\u001b[0mgetvalue\u001b[0m\u001b[1;33m(\u001b[0m\u001b[1;33m)\u001b[0m\u001b[1;33m\u001b[0m\u001b[1;33m\u001b[0m\u001b[0m\n\u001b[0;32m    130\u001b[0m     \u001b[1;32mif\u001b[0m \u001b[0mfmt\u001b[0m \u001b[1;33m==\u001b[0m \u001b[1;34m'svg'\u001b[0m\u001b[1;33m:\u001b[0m\u001b[1;33m\u001b[0m\u001b[1;33m\u001b[0m\u001b[0m\n",
      "\u001b[1;32m~\\Miniconda3\\envs\\data620final\\lib\\site-packages\\matplotlib\\backend_bases.py\u001b[0m in \u001b[0;36mprint_figure\u001b[1;34m(self, filename, dpi, facecolor, edgecolor, orientation, format, bbox_inches, **kwargs)\u001b[0m\n\u001b[0;32m   2054\u001b[0m                         \u001b[0morientation\u001b[0m\u001b[1;33m=\u001b[0m\u001b[0morientation\u001b[0m\u001b[1;33m,\u001b[0m\u001b[1;33m\u001b[0m\u001b[1;33m\u001b[0m\u001b[0m\n\u001b[0;32m   2055\u001b[0m                         \u001b[0mdryrun\u001b[0m\u001b[1;33m=\u001b[0m\u001b[1;32mTrue\u001b[0m\u001b[1;33m,\u001b[0m\u001b[1;33m\u001b[0m\u001b[1;33m\u001b[0m\u001b[0m\n\u001b[1;32m-> 2056\u001b[1;33m                         **kwargs)\n\u001b[0m\u001b[0;32m   2057\u001b[0m                     \u001b[0mrenderer\u001b[0m \u001b[1;33m=\u001b[0m \u001b[0mself\u001b[0m\u001b[1;33m.\u001b[0m\u001b[0mfigure\u001b[0m\u001b[1;33m.\u001b[0m\u001b[0m_cachedRenderer\u001b[0m\u001b[1;33m\u001b[0m\u001b[1;33m\u001b[0m\u001b[0m\n\u001b[0;32m   2058\u001b[0m                     \u001b[0mbbox_artists\u001b[0m \u001b[1;33m=\u001b[0m \u001b[0mkwargs\u001b[0m\u001b[1;33m.\u001b[0m\u001b[0mpop\u001b[0m\u001b[1;33m(\u001b[0m\u001b[1;34m\"bbox_extra_artists\"\u001b[0m\u001b[1;33m,\u001b[0m \u001b[1;32mNone\u001b[0m\u001b[1;33m)\u001b[0m\u001b[1;33m\u001b[0m\u001b[1;33m\u001b[0m\u001b[0m\n",
      "\u001b[1;32m~\\Miniconda3\\envs\\data620final\\lib\\site-packages\\matplotlib\\backends\\backend_agg.py\u001b[0m in \u001b[0;36mprint_png\u001b[1;34m(self, filename_or_obj, metadata, pil_kwargs, *args, **kwargs)\u001b[0m\n\u001b[0;32m    530\u001b[0m                     \u001b[0mcbook\u001b[0m\u001b[1;33m.\u001b[0m\u001b[0mopen_file_cm\u001b[0m\u001b[1;33m(\u001b[0m\u001b[0mfilename_or_obj\u001b[0m\u001b[1;33m,\u001b[0m \u001b[1;34m\"wb\"\u001b[0m\u001b[1;33m)\u001b[0m \u001b[1;32mas\u001b[0m \u001b[0mfh\u001b[0m\u001b[1;33m:\u001b[0m\u001b[1;33m\u001b[0m\u001b[1;33m\u001b[0m\u001b[0m\n\u001b[0;32m    531\u001b[0m                 _png.write_png(renderer._renderer, fh,\n\u001b[1;32m--> 532\u001b[1;33m                                self.figure.dpi, metadata=metadata)\n\u001b[0m\u001b[0;32m    533\u001b[0m \u001b[1;33m\u001b[0m\u001b[0m\n\u001b[0;32m    534\u001b[0m     \u001b[1;32mdef\u001b[0m \u001b[0mprint_to_buffer\u001b[0m\u001b[1;33m(\u001b[0m\u001b[0mself\u001b[0m\u001b[1;33m)\u001b[0m\u001b[1;33m:\u001b[0m\u001b[1;33m\u001b[0m\u001b[1;33m\u001b[0m\u001b[0m\n",
      "\u001b[1;31mKeyboardInterrupt\u001b[0m: "
     ],
     "ename": "KeyboardInterrupt",
     "evalue": "",
     "output_type": "error"
    }
   ],
   "source": [
    "## Data Analysis/Visualization\n",
    "plt.figure(figsize=(20, 20), dpi=600)\n",
    "\n",
    "# top 10 authors\n",
    "plt.subplot(2, 2, 1)\n",
    "top10authors = pd.DataFrame.from_records(Counter(x_df[x_df['AUTHOR'] != '?']['AUTHOR']).most_common(10), columns=['NAME', 'COUNT'])\n",
    "sns.barplot(x='COUNT', y='NAME', data=top10authors)\n",
    "plt.title('Top 10 Authors')\n",
    "\n",
    "# publications over time\n",
    "plt.subplot(2, 2, 2)\n",
    "yearly = pd.DataFrame(df['YEAR'].value_counts().reset_index())\n",
    "yearly.columns = ['YEAR', 'COUNT']\n",
    "sns.lineplot(x='YEAR', y='COUNT', data=yearly)\n",
    "plt.title('Publications Over Time')\n",
    "plt.xlim([df.YEAR.min(), df.YEAR.max()])\n",
    "\n",
    "# top 10 journals\n",
    "plt.subplot(2, 2, 3)\n",
    "top10journals = pd.DataFrame.from_records(Counter(df['TITLE']).most_common(10), columns=['TITLE', 'COUNT'])\n",
    "sns.barplot(x='COUNT', y='TITLE', data=top10journals)\n",
    "plt.title('Top 10 Journals')\n",
    "\n",
    "# top 10 keywords\n",
    "plt.subplot(2, 2, 4)\n",
    "keywords = df['KEYWORDS'].dropna().str.join('|').str.split('|').to_list()\n",
    "flat_kws = [_.lower() for kw in keywords\n",
    "            for _ in kw]\n",
    "top10kw = pd.DataFrame.from_records(Counter(flat_kws).most_common(10), columns=['KEYWORD', 'COUNT'])\n",
    "sns.barplot(x='COUNT', y='KEYWORD', data=top10kw)\n",
    "plt.title('Top 10 Keywords')"
   ],
   "metadata": {
    "collapsed": false,
    "pycharm": {
     "name": "#%%\n",
     "is_executing": false
    }
   }
  },
  {
   "cell_type": "markdown",
   "source": [
    "Various trends are evident from the plots above, however it may be useful to create an additional dataframe indexed by the title,\n",
    "and then create plots of the keywords conditioned on the title. It may also be helpful to create plots for single words in\n",
    "an abstract, as well as 2-3 word phrases. Lets first create the dataframe which will allow us to do so, and then plot the results."
   ],
   "metadata": {
    "collapsed": false
   }
  },
  {
   "cell_type": "code",
   "execution_count": 63,
   "outputs": [],
   "source": [
    "# vectorizer helper function to return array of ngrams and feature names\n",
    "# def get_ngrams(abstract, n=1):\n",
    "#     cv = CountVectorizer(stop_words=stop_words, ngram_range=(n, n))\n",
    "#     X = cv.fit_transform(abstract)\n",
    "#     return X, cv.get_feature_names()\n",
    "# \n",
    "# # get ngrams\n",
    "# ngrams = (get_ngrams(df['ABSTRACT'].str.lower().fillna('?'), i) for i in range(1,4))\n",
    "# ngrams_dfs = (pd.DataFrame(gram[0].toarray(), columns=gram[1]) for gram in ngrams)\n",
    "# ngrams_dfs = [df.melt() for df in ngrams_dfs]\n",
    "\n",
    "# the above code block is limited by memory issues\n",
    "# another approach will be attempted in the next code block but may not condition on title"
   ],
   "metadata": {
    "collapsed": false,
    "pycharm": {
     "name": "#%%\n",
     "is_executing": false
    }
   }
  },
  {
   "cell_type": "code",
   "execution_count": 64,
   "outputs": [
    {
     "traceback": [
      "\u001b[1;31m---------------------------------------------------------------------------\u001b[0m",
      "\u001b[1;31mKeyboardInterrupt\u001b[0m                         Traceback (most recent call last)",
      "\u001b[1;32m<ipython-input-64-a2a75c0fe44d>\u001b[0m in \u001b[0;36m<module>\u001b[1;34m\u001b[0m\n\u001b[0;32m      7\u001b[0m \u001b[1;33m\u001b[0m\u001b[0m\n\u001b[0;32m      8\u001b[0m \u001b[0mmonograms_df\u001b[0m \u001b[1;33m=\u001b[0m \u001b[0mprocess_ngrams\u001b[0m\u001b[1;33m(\u001b[0m\u001b[0mdf\u001b[0m\u001b[1;33m,\u001b[0m \u001b[1;34m'MONOGRAMS'\u001b[0m\u001b[1;33m)\u001b[0m\u001b[1;33m\u001b[0m\u001b[1;33m\u001b[0m\u001b[0m\n\u001b[1;32m----> 9\u001b[1;33m \u001b[0mbigrams_df\u001b[0m \u001b[1;33m=\u001b[0m \u001b[0mprocess_ngrams\u001b[0m\u001b[1;33m(\u001b[0m\u001b[0mdf\u001b[0m\u001b[1;33m,\u001b[0m \u001b[1;34m'BIGRAMS'\u001b[0m\u001b[1;33m)\u001b[0m\u001b[1;33m\u001b[0m\u001b[1;33m\u001b[0m\u001b[0m\n\u001b[0m\u001b[0;32m     10\u001b[0m \u001b[0mtrigrams_df\u001b[0m \u001b[1;33m=\u001b[0m \u001b[0mprocess_ngrams\u001b[0m\u001b[1;33m(\u001b[0m\u001b[0mdf\u001b[0m\u001b[1;33m,\u001b[0m \u001b[1;34m'TRIGRAMS'\u001b[0m\u001b[1;33m)\u001b[0m\u001b[1;33m\u001b[0m\u001b[1;33m\u001b[0m\u001b[0m\n\u001b[0;32m     11\u001b[0m \u001b[1;33m\u001b[0m\u001b[0m\n",
      "\u001b[1;32m<ipython-input-64-a2a75c0fe44d>\u001b[0m in \u001b[0;36mprocess_ngrams\u001b[1;34m(df_, col_name)\u001b[0m\n\u001b[0;32m      1\u001b[0m \u001b[1;32mdef\u001b[0m \u001b[0mprocess_ngrams\u001b[0m\u001b[1;33m(\u001b[0m\u001b[0mdf_\u001b[0m\u001b[1;33m,\u001b[0m \u001b[0mcol_name\u001b[0m\u001b[1;33m)\u001b[0m\u001b[1;33m:\u001b[0m\u001b[1;33m\u001b[0m\u001b[1;33m\u001b[0m\u001b[0m\n\u001b[1;32m----> 2\u001b[1;33m     \u001b[0mnew_df\u001b[0m \u001b[1;33m=\u001b[0m \u001b[0mpd\u001b[0m\u001b[1;33m.\u001b[0m\u001b[0mDataFrame\u001b[0m\u001b[1;33m(\u001b[0m\u001b[0mdf_\u001b[0m\u001b[1;33m.\u001b[0m\u001b[0mcopy\u001b[0m\u001b[1;33m(\u001b[0m\u001b[1;33m)\u001b[0m\u001b[1;33m[\u001b[0m\u001b[0mcol_name\u001b[0m\u001b[1;33m]\u001b[0m\u001b[1;33m.\u001b[0m\u001b[0mtolist\u001b[0m\u001b[1;33m(\u001b[0m\u001b[1;33m)\u001b[0m\u001b[1;33m,\u001b[0m \u001b[0mindex\u001b[0m\u001b[1;33m=\u001b[0m\u001b[0mdf_\u001b[0m\u001b[1;33m.\u001b[0m\u001b[0mKEY\u001b[0m\u001b[1;33m)\u001b[0m\u001b[1;33m.\u001b[0m\u001b[0mstack\u001b[0m\u001b[1;33m(\u001b[0m\u001b[1;33m)\u001b[0m\u001b[1;33m.\u001b[0m\u001b[0mhead\u001b[0m\u001b[1;33m(\u001b[0m\u001b[1;33m)\u001b[0m\u001b[1;33m\u001b[0m\u001b[1;33m\u001b[0m\u001b[0m\n\u001b[0m\u001b[0;32m      3\u001b[0m     \u001b[0mnew_df\u001b[0m \u001b[1;33m=\u001b[0m \u001b[0mnew_df\u001b[0m\u001b[1;33m.\u001b[0m\u001b[0mreset_index\u001b[0m\u001b[1;33m(\u001b[0m\u001b[1;33m[\u001b[0m\u001b[1;36m0\u001b[0m\u001b[1;33m,\u001b[0m \u001b[1;34m'KEY'\u001b[0m\u001b[1;33m]\u001b[0m\u001b[1;33m)\u001b[0m\u001b[1;33m\u001b[0m\u001b[1;33m\u001b[0m\u001b[0m\n\u001b[0;32m      4\u001b[0m     \u001b[0mnew_df\u001b[0m\u001b[1;33m.\u001b[0m\u001b[0mcolumns\u001b[0m \u001b[1;33m=\u001b[0m \u001b[1;33m[\u001b[0m\u001b[1;34m'KEY'\u001b[0m\u001b[1;33m,\u001b[0m \u001b[0mcol_name\u001b[0m\u001b[1;33m]\u001b[0m\u001b[1;33m\u001b[0m\u001b[1;33m\u001b[0m\u001b[0m\n\u001b[0;32m      5\u001b[0m     \u001b[0mnew_df\u001b[0m \u001b[1;33m=\u001b[0m \u001b[0mnew_df\u001b[0m\u001b[1;33m.\u001b[0m\u001b[0mmerge\u001b[0m\u001b[1;33m(\u001b[0m\u001b[0mdf_\u001b[0m\u001b[1;33m,\u001b[0m \u001b[0mon\u001b[0m\u001b[1;33m=\u001b[0m\u001b[1;33m[\u001b[0m\u001b[1;34m'KEY'\u001b[0m\u001b[1;33m]\u001b[0m\u001b[1;33m)\u001b[0m\u001b[1;33m\u001b[0m\u001b[1;33m\u001b[0m\u001b[0m\n",
      "\u001b[1;32m~\\Miniconda3\\envs\\data620final\\lib\\site-packages\\pandas\\core\\frame.py\u001b[0m in \u001b[0;36m__init__\u001b[1;34m(self, data, index, columns, dtype, copy)\u001b[0m\n\u001b[0;32m    460\u001b[0m                             \u001b[0mindex\u001b[0m \u001b[1;33m=\u001b[0m \u001b[0mibase\u001b[0m\u001b[1;33m.\u001b[0m\u001b[0mdefault_index\u001b[0m\u001b[1;33m(\u001b[0m\u001b[0mlen\u001b[0m\u001b[1;33m(\u001b[0m\u001b[0mdata\u001b[0m\u001b[1;33m)\u001b[0m\u001b[1;33m)\u001b[0m\u001b[1;33m\u001b[0m\u001b[1;33m\u001b[0m\u001b[0m\n\u001b[0;32m    461\u001b[0m \u001b[1;33m\u001b[0m\u001b[0m\n\u001b[1;32m--> 462\u001b[1;33m                     \u001b[0mmgr\u001b[0m \u001b[1;33m=\u001b[0m \u001b[0marrays_to_mgr\u001b[0m\u001b[1;33m(\u001b[0m\u001b[0marrays\u001b[0m\u001b[1;33m,\u001b[0m \u001b[0mcolumns\u001b[0m\u001b[1;33m,\u001b[0m \u001b[0mindex\u001b[0m\u001b[1;33m,\u001b[0m \u001b[0mcolumns\u001b[0m\u001b[1;33m,\u001b[0m \u001b[0mdtype\u001b[0m\u001b[1;33m=\u001b[0m\u001b[0mdtype\u001b[0m\u001b[1;33m)\u001b[0m\u001b[1;33m\u001b[0m\u001b[1;33m\u001b[0m\u001b[0m\n\u001b[0m\u001b[0;32m    463\u001b[0m                 \u001b[1;32melse\u001b[0m\u001b[1;33m:\u001b[0m\u001b[1;33m\u001b[0m\u001b[1;33m\u001b[0m\u001b[0m\n\u001b[0;32m    464\u001b[0m                     \u001b[0mmgr\u001b[0m \u001b[1;33m=\u001b[0m \u001b[0minit_ndarray\u001b[0m\u001b[1;33m(\u001b[0m\u001b[0mdata\u001b[0m\u001b[1;33m,\u001b[0m \u001b[0mindex\u001b[0m\u001b[1;33m,\u001b[0m \u001b[0mcolumns\u001b[0m\u001b[1;33m,\u001b[0m \u001b[0mdtype\u001b[0m\u001b[1;33m=\u001b[0m\u001b[0mdtype\u001b[0m\u001b[1;33m,\u001b[0m \u001b[0mcopy\u001b[0m\u001b[1;33m=\u001b[0m\u001b[0mcopy\u001b[0m\u001b[1;33m)\u001b[0m\u001b[1;33m\u001b[0m\u001b[1;33m\u001b[0m\u001b[0m\n",
      "\u001b[1;32m~\\Miniconda3\\envs\\data620final\\lib\\site-packages\\pandas\\core\\internals\\construction.py\u001b[0m in \u001b[0;36marrays_to_mgr\u001b[1;34m(arrays, arr_names, index, columns, dtype)\u001b[0m\n\u001b[0;32m     80\u001b[0m \u001b[1;33m\u001b[0m\u001b[0m\n\u001b[0;32m     81\u001b[0m     \u001b[1;31m# don't force copy because getting jammed in an ndarray anyway\u001b[0m\u001b[1;33m\u001b[0m\u001b[1;33m\u001b[0m\u001b[1;33m\u001b[0m\u001b[0m\n\u001b[1;32m---> 82\u001b[1;33m     \u001b[0marrays\u001b[0m \u001b[1;33m=\u001b[0m \u001b[0m_homogenize\u001b[0m\u001b[1;33m(\u001b[0m\u001b[0marrays\u001b[0m\u001b[1;33m,\u001b[0m \u001b[0mindex\u001b[0m\u001b[1;33m,\u001b[0m \u001b[0mdtype\u001b[0m\u001b[1;33m)\u001b[0m\u001b[1;33m\u001b[0m\u001b[1;33m\u001b[0m\u001b[0m\n\u001b[0m\u001b[0;32m     83\u001b[0m \u001b[1;33m\u001b[0m\u001b[0m\n\u001b[0;32m     84\u001b[0m     \u001b[1;31m# from BlockManager perspective\u001b[0m\u001b[1;33m\u001b[0m\u001b[1;33m\u001b[0m\u001b[1;33m\u001b[0m\u001b[0m\n",
      "\u001b[1;32m~\\Miniconda3\\envs\\data620final\\lib\\site-packages\\pandas\\core\\internals\\construction.py\u001b[0m in \u001b[0;36m_homogenize\u001b[1;34m(data, index, dtype)\u001b[0m\n\u001b[0;32m    321\u001b[0m                 \u001b[0mval\u001b[0m \u001b[1;33m=\u001b[0m \u001b[0mlib\u001b[0m\u001b[1;33m.\u001b[0m\u001b[0mfast_multiget\u001b[0m\u001b[1;33m(\u001b[0m\u001b[0mval\u001b[0m\u001b[1;33m,\u001b[0m \u001b[0moindex\u001b[0m\u001b[1;33m.\u001b[0m\u001b[0mvalues\u001b[0m\u001b[1;33m,\u001b[0m \u001b[0mdefault\u001b[0m\u001b[1;33m=\u001b[0m\u001b[0mnp\u001b[0m\u001b[1;33m.\u001b[0m\u001b[0mnan\u001b[0m\u001b[1;33m)\u001b[0m\u001b[1;33m\u001b[0m\u001b[1;33m\u001b[0m\u001b[0m\n\u001b[0;32m    322\u001b[0m             val = sanitize_array(\n\u001b[1;32m--> 323\u001b[1;33m                 \u001b[0mval\u001b[0m\u001b[1;33m,\u001b[0m \u001b[0mindex\u001b[0m\u001b[1;33m,\u001b[0m \u001b[0mdtype\u001b[0m\u001b[1;33m=\u001b[0m\u001b[0mdtype\u001b[0m\u001b[1;33m,\u001b[0m \u001b[0mcopy\u001b[0m\u001b[1;33m=\u001b[0m\u001b[1;32mFalse\u001b[0m\u001b[1;33m,\u001b[0m \u001b[0mraise_cast_failure\u001b[0m\u001b[1;33m=\u001b[0m\u001b[1;32mFalse\u001b[0m\u001b[1;33m\u001b[0m\u001b[1;33m\u001b[0m\u001b[0m\n\u001b[0m\u001b[0;32m    324\u001b[0m             )\n\u001b[0;32m    325\u001b[0m \u001b[1;33m\u001b[0m\u001b[0m\n",
      "\u001b[1;32m~\\Miniconda3\\envs\\data620final\\lib\\site-packages\\pandas\\core\\internals\\construction.py\u001b[0m in \u001b[0;36msanitize_array\u001b[1;34m(data, index, dtype, copy, raise_cast_failure)\u001b[0m\n\u001b[0;32m    747\u001b[0m         \u001b[1;32mand\u001b[0m \u001b[1;32mnot\u001b[0m \u001b[0mis_object_dtype\u001b[0m\u001b[1;33m(\u001b[0m\u001b[0mdtype\u001b[0m\u001b[1;33m)\u001b[0m\u001b[1;33m\u001b[0m\u001b[1;33m\u001b[0m\u001b[0m\n\u001b[0;32m    748\u001b[0m     ):\n\u001b[1;32m--> 749\u001b[1;33m         \u001b[0minferred\u001b[0m \u001b[1;33m=\u001b[0m \u001b[0mlib\u001b[0m\u001b[1;33m.\u001b[0m\u001b[0minfer_dtype\u001b[0m\u001b[1;33m(\u001b[0m\u001b[0msubarr\u001b[0m\u001b[1;33m,\u001b[0m \u001b[0mskipna\u001b[0m\u001b[1;33m=\u001b[0m\u001b[1;32mFalse\u001b[0m\u001b[1;33m)\u001b[0m\u001b[1;33m\u001b[0m\u001b[1;33m\u001b[0m\u001b[0m\n\u001b[0m\u001b[0;32m    750\u001b[0m         \u001b[1;32mif\u001b[0m \u001b[0minferred\u001b[0m \u001b[1;33m==\u001b[0m \u001b[1;34m\"period\"\u001b[0m\u001b[1;33m:\u001b[0m\u001b[1;33m\u001b[0m\u001b[1;33m\u001b[0m\u001b[0m\n\u001b[0;32m    751\u001b[0m             \u001b[1;32mtry\u001b[0m\u001b[1;33m:\u001b[0m\u001b[1;33m\u001b[0m\u001b[1;33m\u001b[0m\u001b[0m\n",
      "\u001b[1;32mpandas/_libs/lib.pyx\u001b[0m in \u001b[0;36mpandas._libs.lib.infer_dtype\u001b[1;34m()\u001b[0m\n",
      "\u001b[1;32mpandas/_libs/lib.pyx\u001b[0m in \u001b[0;36mpandas._libs.lib._try_infer_map\u001b[1;34m()\u001b[0m\n",
      "\u001b[1;32m~\\Miniconda3\\envs\\data620final\\lib\\site-packages\\numpy\\core\\_dtype.py\u001b[0m in \u001b[0;36m_name_get\u001b[1;34m(dtype)\u001b[0m\n\u001b[0;32m    317\u001b[0m \u001b[1;33m\u001b[0m\u001b[0m\n\u001b[0;32m    318\u001b[0m \u001b[1;33m\u001b[0m\u001b[0m\n\u001b[1;32m--> 319\u001b[1;33m \u001b[1;32mdef\u001b[0m \u001b[0m_name_get\u001b[0m\u001b[1;33m(\u001b[0m\u001b[0mdtype\u001b[0m\u001b[1;33m)\u001b[0m\u001b[1;33m:\u001b[0m\u001b[1;33m\u001b[0m\u001b[1;33m\u001b[0m\u001b[0m\n\u001b[0m\u001b[0;32m    320\u001b[0m     \u001b[1;31m# provides dtype.name.__get__\u001b[0m\u001b[1;33m\u001b[0m\u001b[1;33m\u001b[0m\u001b[1;33m\u001b[0m\u001b[0m\n\u001b[0;32m    321\u001b[0m \u001b[1;33m\u001b[0m\u001b[0m\n",
      "\u001b[1;31mKeyboardInterrupt\u001b[0m: "
     ],
     "ename": "KeyboardInterrupt",
     "evalue": "",
     "output_type": "error"
    }
   ],
   "source": [
    "def process_ngrams(df_, col_name):\n",
    "    new_df = pd.DataFrame(df_.copy()[col_name].tolist(), index=df_.KEY).stack().head()\n",
    "    new_df = new_df.reset_index([0, 'KEY'])\n",
    "    new_df.columns = ['KEY', col_name]\n",
    "    new_df = new_df.merge(df_, on=['KEY'])\n",
    "    return new_df\n",
    "\n",
    "monograms_df = process_ngrams(df, 'MONOGRAMS')\n",
    "bigrams_df = process_ngrams(df, 'BIGRAMS')\n",
    "trigrams_df = process_ngrams(df, 'TRIGRAMS')"
   ],
   "metadata": {
    "collapsed": false,
    "pycharm": {
     "name": "#%%\n",
     "is_executing": false
    }
   }
  },
  {
   "cell_type": "code",
   "execution_count": null,
   "outputs": [],
   "source": [
    "# get top n counts\n",
    "monograms_df.columns"
   ],
   "metadata": {
    "collapsed": false,
    "pycharm": {
     "name": "#%%\n",
     "is_executing": false
    }
   }
  }
 ],
 "metadata": {
  "kernelspec": {
   "display_name": "Python 3",
   "language": "python",
   "name": "python3"
  },
  "language_info": {
   "codemirror_mode": {
    "name": "ipython",
    "version": 2
   },
   "file_extension": ".py",
   "mimetype": "text/x-python",
   "name": "python",
   "nbconvert_exporter": "python",
   "pygments_lexer": "ipython2",
   "version": "2.7.6"
  },
  "pycharm": {
   "stem_cell": {
    "cell_type": "raw",
    "source": [],
    "metadata": {
     "collapsed": false
    }
   }
  }
 },
 "nbformat": 4,
 "nbformat_minor": 0
}